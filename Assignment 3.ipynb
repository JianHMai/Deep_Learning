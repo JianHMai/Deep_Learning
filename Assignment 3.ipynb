{
 "cells": [
  {
   "cell_type": "markdown",
   "metadata": {},
   "source": [
    "# Assignment 3: Build a seq2seq model for machine translation.\n",
    "\n",
    "### Name: [Jian Hui Mai]\n",
    "\n",
    "### Task: Change LSTM model to Bidirectional LSTM Model， translate English to target language and evaluate using Bleu score.\n",
    "\n",
    "### Due Date: Tuesday, April 19th, 11:59PM"
   ]
  },
  {
   "cell_type": "markdown",
   "metadata": {},
   "source": [
    "## 0. You will do the following:\n",
    "\n",
    "1. Read and run the code. Please make sure you have installed keras or tensorflow.Running the script on colab will speed up the training process and also prevent package loading issue. \n",
    "2. Complete the code in Section 1.1, you may fill in your data directory.\n",
    "3. Directly modify the code in Section 3. Change the current LSTM layer to a Bidirectional LSTM Model.\n",
    "4. Training your model and translate English to Spanish in Section 4.2. You could try translating other languages.\n",
    "5. Complete the code in Section 5."
   ]
  },
  {
   "cell_type": "markdown",
   "metadata": {},
   "source": [
    "### Hint: \n",
    "\n",
    "To implement ```Bi-LSTM```, you will need the following code to build the encoder. Do NOT use Bi-LSTM for the decoder. But there are other codes you need to modify to make it work."
   ]
  },
  {
   "cell_type": "code",
   "execution_count": null,
   "metadata": {},
   "outputs": [],
   "source": [
    "from keras.layers import Bidirectional, Concatenate\n",
    "\n",
    "encoder_bilstm = Bidirectional(LSTM(latent_dim, return_state=True, \n",
    "                                  dropout=0.5, name='encoder_lstm'))\n",
    "_, forward_h, forward_c, backward_h, backward_c = encoder_bilstm(encoder_inputs)\n",
    "\n",
    "state_h = Concatenate()([forward_h, backward_h])\n",
    "state_c = Concatenate()([forward_c, backward_c])"
   ]
  },
  {
   "cell_type": "markdown",
   "metadata": {},
   "source": [
    "## 1. Data preparation (10 points)\n",
    "\n",
    "1. Download spanish-english data from http://www.manythings.org/anki/\n",
    "2. You may try to use other languages.\n",
    "3. Unzip the .ZIP file.\n",
    "4. Put the .TXT file (e.g., \"deu.txt\") in the directory \"./Data/\".\n",
    "5. Fill in your data directory in section 1.1."
   ]
  },
  {
   "cell_type": "markdown",
   "metadata": {},
   "source": [
    "### 1.1. Load and clean text\n"
   ]
  },
  {
   "cell_type": "code",
   "execution_count": 1,
   "metadata": {},
   "outputs": [],
   "source": [
    "import re\n",
    "import string\n",
    "from unicodedata import normalize\n",
    "import numpy\n",
    "\n",
    "# load doc into memory\n",
    "def load_doc(filename):\n",
    "    # open the file as read only\n",
    "    file = open(filename, mode='rt', encoding='utf-8')\n",
    "    # read all text\n",
    "    text = file.read()\n",
    "    # close the file\n",
    "    file.close()\n",
    "    return text\n",
    "\n",
    "\n",
    "# split a loaded document into sentences\n",
    "def to_pairs(doc):\n",
    "    lines = doc.strip().split('\\n')\n",
    "    pairs = [line.split('\\t') for line in  lines]\n",
    "    return pairs\n",
    "\n",
    "def clean_data(lines):\n",
    "    cleaned = list()\n",
    "    # prepare regex for char filtering\n",
    "    re_print = re.compile('[^%s]' % re.escape(string.printable))\n",
    "    # prepare translation table for removing punctuation\n",
    "    table = str.maketrans('', '', string.punctuation)\n",
    "    for pair in lines:\n",
    "        clean_pair = list()\n",
    "        for line in pair:\n",
    "            # normalize unicode characters\n",
    "            line = normalize('NFD', line).encode('ascii', 'ignore')\n",
    "            line = line.decode('UTF-8')\n",
    "            # tokenize on white space\n",
    "            line = line.split()\n",
    "            # convert to lowercase\n",
    "            line = [word.lower() for word in line]\n",
    "            # remove punctuation from each token\n",
    "            line = [word.translate(table) for word in line]\n",
    "            # remove non-printable chars form each token\n",
    "            line = [re_print.sub('', w) for w in line]\n",
    "            # remove tokens with numbers in them\n",
    "            line = [word for word in line if word.isalpha()]\n",
    "            # store as string\n",
    "            clean_pair.append(' '.join(line))\n",
    "        cleaned.append(clean_pair)\n",
    "    return numpy.array(cleaned)"
   ]
  },
  {
   "cell_type": "markdown",
   "metadata": {},
   "source": [
    "#### Fill the following blanks:"
   ]
  },
  {
   "cell_type": "code",
   "execution_count": 2,
   "metadata": {},
   "outputs": [],
   "source": [
    "# e.g., filename = 'Data/deu.txt'\n",
    "filename = \"spa.txt\"\n",
    "\n",
    "# e.g., n_train = 20000\n",
    "n_train = 20000"
   ]
  },
  {
   "cell_type": "code",
   "execution_count": 3,
   "metadata": {},
   "outputs": [],
   "source": [
    "# load dataset\n",
    "doc = load_doc(filename)\n",
    "\n",
    "# split into Language1-Language2 pairs\n",
    "pairs = to_pairs(doc)\n",
    "\n",
    "# clean sentences\n",
    "clean_pairs = clean_data(pairs)[0:n_train, :]"
   ]
  },
  {
   "cell_type": "code",
   "execution_count": 4,
   "metadata": {},
   "outputs": [
    {
     "name": "stdout",
     "output_type": "stream",
     "text": [
      "[youre here] => [estas aqui]\n",
      "[youre here] => [estais aqui]\n",
      "[youre late] => [estas retrasado]\n",
      "[youre lost] => [estas perdido]\n",
      "[youre mean] => [eres mala]\n",
      "[youre mean] => [eres mezquino]\n",
      "[youre mine] => [tu eres mio]\n",
      "[youre nice] => [eres simpatico]\n",
      "[youre nuts] => [estas loco]\n",
      "[youre nuts] => [estas chiflado]\n"
     ]
    }
   ],
   "source": [
    "for i in range(3000, 3010):\n",
    "    print('[' + clean_pairs[i, 0] + '] => [' + clean_pairs[i, 1] + ']')"
   ]
  },
  {
   "cell_type": "code",
   "execution_count": 5,
   "metadata": {},
   "outputs": [
    {
     "name": "stdout",
     "output_type": "stream",
     "text": [
      "Length of input_texts:  (20000,)\n",
      "Length of target_texts: (20000,)\n"
     ]
    }
   ],
   "source": [
    "input_texts = clean_pairs[:, 0]\n",
    "target_texts = ['\\t' + text + '\\n' for text in clean_pairs[:, 1]]\n",
    "\n",
    "print('Length of input_texts:  ' + str(input_texts.shape))\n",
    "print('Length of target_texts: ' + str(input_texts.shape))"
   ]
  },
  {
   "cell_type": "code",
   "execution_count": 6,
   "metadata": {},
   "outputs": [
    {
     "name": "stdout",
     "output_type": "stream",
     "text": [
      "max length of input  sentences: 18\n",
      "max length of target sentences: 55\n"
     ]
    }
   ],
   "source": [
    "max_encoder_seq_length = max(len(line) for line in input_texts)\n",
    "max_decoder_seq_length = max(len(line) for line in target_texts)\n",
    "\n",
    "print('max length of input  sentences: %d' % (max_encoder_seq_length))\n",
    "print('max length of target sentences: %d' % (max_decoder_seq_length))"
   ]
  },
  {
   "cell_type": "markdown",
   "metadata": {},
   "source": [
    "**Remark:** To this end, you have two lists of sentences: input_texts and target_texts"
   ]
  },
  {
   "cell_type": "markdown",
   "metadata": {},
   "source": [
    "## 2. Text processing\n",
    "\n",
    "### 2.1. Convert texts to sequences\n",
    "\n",
    "- Input: A list of $n$ sentences (with max length $t$).\n",
    "- It is represented by a $n\\times t$ matrix after the tokenization and zero-padding."
   ]
  },
  {
   "cell_type": "code",
   "execution_count": 7,
   "metadata": {},
   "outputs": [
    {
     "name": "stdout",
     "output_type": "stream",
     "text": [
      "shape of encoder_input_seq: (20000, 18)\n",
      "shape of input_token_index: 27\n",
      "shape of decoder_input_seq: (20000, 55)\n",
      "shape of target_token_index: 29\n"
     ]
    }
   ],
   "source": [
    "from keras.preprocessing.text import Tokenizer\n",
    "from keras.preprocessing.sequence import pad_sequences\n",
    "\n",
    "# encode and pad sequences\n",
    "def text2sequences(max_len, lines):\n",
    "    tokenizer = Tokenizer(char_level=True, filters='')\n",
    "    tokenizer.fit_on_texts(lines)\n",
    "    seqs = tokenizer.texts_to_sequences(lines)\n",
    "    seqs_pad = pad_sequences(seqs, maxlen=max_len, padding='post')\n",
    "    return seqs_pad, tokenizer.word_index\n",
    "\n",
    "encoder_input_seq, input_token_index = text2sequences(max_encoder_seq_length, \n",
    "                                                      input_texts)\n",
    "decoder_input_seq, target_token_index = text2sequences(max_decoder_seq_length, \n",
    "                                                       target_texts)\n",
    "\n",
    "print('shape of encoder_input_seq: ' + str(encoder_input_seq.shape))\n",
    "print('shape of input_token_index: ' + str(len(input_token_index)))\n",
    "print('shape of decoder_input_seq: ' + str(decoder_input_seq.shape))\n",
    "print('shape of target_token_index: ' + str(len(target_token_index)))"
   ]
  },
  {
   "cell_type": "code",
   "execution_count": 8,
   "metadata": {},
   "outputs": [
    {
     "name": "stdout",
     "output_type": "stream",
     "text": [
      "num_encoder_tokens: 28\n",
      "num_decoder_tokens: 30\n"
     ]
    }
   ],
   "source": [
    "num_encoder_tokens = len(input_token_index) + 1\n",
    "num_decoder_tokens = len(target_token_index) + 1\n",
    "\n",
    "print('num_encoder_tokens: ' + str(num_encoder_tokens))\n",
    "print('num_decoder_tokens: ' + str(num_decoder_tokens))"
   ]
  },
  {
   "cell_type": "markdown",
   "metadata": {},
   "source": [
    "**Remark:** To this end, the input language and target language texts are converted to 2 matrices. \n",
    "\n",
    "- Their number of rows are both n_train.\n",
    "- Their number of columns are respective max_encoder_seq_length and max_decoder_seq_length."
   ]
  },
  {
   "cell_type": "markdown",
   "metadata": {},
   "source": [
    "The followings print a sentence and its representation as a sequence."
   ]
  },
  {
   "cell_type": "code",
   "execution_count": 9,
   "metadata": {},
   "outputs": [
    {
     "data": {
      "text/plain": [
       "'\\tno puede ser\\n'"
      ]
     },
     "execution_count": 9,
     "metadata": {},
     "output_type": "execute_result"
    }
   ],
   "source": [
    "target_texts[100]"
   ]
  },
  {
   "cell_type": "code",
   "execution_count": 10,
   "metadata": {},
   "outputs": [
    {
     "data": {
      "text/plain": [
       "array([ 6,  8,  3,  1, 17, 14,  2, 15,  2,  1,  5,  2, 10,  7,  0,  0,  0,\n",
       "        0,  0,  0,  0,  0,  0,  0,  0,  0,  0,  0,  0,  0,  0,  0,  0,  0,\n",
       "        0,  0,  0,  0,  0,  0,  0,  0,  0,  0,  0,  0,  0,  0,  0,  0,  0,\n",
       "        0,  0,  0,  0])"
      ]
     },
     "execution_count": 10,
     "metadata": {},
     "output_type": "execute_result"
    }
   ],
   "source": [
    "decoder_input_seq[100, :]"
   ]
  },
  {
   "cell_type": "markdown",
   "metadata": {},
   "source": [
    "## 2.2. One-hot encode\n",
    "\n",
    "- Input: A list of $n$ sentences (with max length $t$).\n",
    "- It is represented by a $n\\times t$ matrix after the tokenization and zero-padding.\n",
    "- It is represented by a $n\\times t \\times v$ tensor ($t$ is the number of unique chars) after the one-hot encoding."
   ]
  },
  {
   "cell_type": "code",
   "execution_count": 11,
   "metadata": {},
   "outputs": [
    {
     "name": "stdout",
     "output_type": "stream",
     "text": [
      "(20000, 18, 28)\n",
      "(20000, 55, 30)\n"
     ]
    }
   ],
   "source": [
    "from tensorflow.keras.utils import to_categorical\n",
    "\n",
    "# one hot encode target sequence\n",
    "def onehot_encode(sequences, max_len, vocab_size):\n",
    "    n = len(sequences)\n",
    "    data = numpy.zeros((n, max_len, vocab_size))\n",
    "    for i in range(n):\n",
    "        data[i, :, :] = to_categorical(sequences[i], num_classes=vocab_size)\n",
    "    return data\n",
    "\n",
    "encoder_input_data = onehot_encode(encoder_input_seq, max_encoder_seq_length, num_encoder_tokens)\n",
    "decoder_input_data = onehot_encode(decoder_input_seq, max_decoder_seq_length, num_decoder_tokens)\n",
    "\n",
    "decoder_target_seq = numpy.zeros(decoder_input_seq.shape)\n",
    "decoder_target_seq[:, 0:-1] = decoder_input_seq[:, 1:]\n",
    "decoder_target_data = onehot_encode(decoder_target_seq, \n",
    "                                    max_decoder_seq_length, \n",
    "                                    num_decoder_tokens)\n",
    "\n",
    "print(encoder_input_data.shape)\n",
    "print(decoder_input_data.shape)"
   ]
  },
  {
   "cell_type": "markdown",
   "metadata": {},
   "source": [
    "## 3. Build the networks (for training) (20 points)\n",
    "\n",
    "- In this section, we have already implemented the LSTM model for you. You can run the code and see what the code is doing.  \n",
    "\n",
    "- You need to change the existing LSTM model to a Bidirectional LSTM model. Just modify the network structrue and do not change the training cell in section 3.4.\n",
    "\n",
    "- Build encoder, decoder, and connect the two modules to get \"model\". \n",
    "\n",
    "- Fit the model on the bilingual data to train the parameters in the encoder and decoder.\n",
    "\n"
   ]
  },
  {
   "cell_type": "markdown",
   "metadata": {},
   "source": [
    "### 3.1. Encoder network\n",
    "\n",
    "- Input:  one-hot encode of the input language\n",
    "\n",
    "- Return: \n",
    "\n",
    "    -- output (all the hidden states   $h_1, \\cdots , h_t$) are always discarded\n",
    "    \n",
    "    -- the final hidden state  $h_t$\n",
    "    \n",
    "    -- the final conveyor belt $c_t$"
   ]
  },
  {
   "cell_type": "code",
   "execution_count": 12,
   "metadata": {},
   "outputs": [],
   "source": [
    "from tensorflow.keras.layers import Input, LSTM\n",
    "from tensorflow.keras.models import Model\n",
    "from keras.layers import Bidirectional, Concatenate\n",
    "\n",
    "latent_dim = 256\n",
    "\n",
    "# inputs of the encoder network\n",
    "encoder_inputs = Input(shape=(None, num_encoder_tokens), \n",
    "                       name='encoder_inputs')\n",
    "\n",
    "encoder_biLSTM = Bidirectional(LSTM(latent_dim, return_state=True, dropout=0.5, name='encoder_lstm'))\n",
    "_, forward_h, forward_c, backward_h, backward_c = encoder_biLSTM(encoder_inputs)\n",
    "\n",
    "state_h = Concatenate()([forward_h, backward_h])\n",
    "state_c = Concatenate()([forward_c, backward_c])\n",
    "\n",
    "# build the encoder network model\n",
    "encoder_model = Model(inputs=encoder_inputs, outputs=[state_h, state_c], name='encoder')"
   ]
  },
  {
   "cell_type": "markdown",
   "metadata": {},
   "source": [
    "Print a summary and save the encoder network structure to \"./encoder.pdf\""
   ]
  },
  {
   "cell_type": "code",
   "execution_count": 13,
   "metadata": {},
   "outputs": [
    {
     "name": "stdout",
     "output_type": "stream",
     "text": [
      "Model: \"encoder\"\n",
      "__________________________________________________________________________________________________\n",
      " Layer (type)                   Output Shape         Param #     Connected to                     \n",
      "==================================================================================================\n",
      " encoder_inputs (InputLayer)    [(None, None, 28)]   0           []                               \n",
      "                                                                                                  \n",
      " bidirectional (Bidirectional)  [(None, 512),        583680      ['encoder_inputs[0][0]']         \n",
      "                                 (None, 256),                                                     \n",
      "                                 (None, 256),                                                     \n",
      "                                 (None, 256),                                                     \n",
      "                                 (None, 256)]                                                     \n",
      "                                                                                                  \n",
      " concatenate (Concatenate)      (None, 512)          0           ['bidirectional[0][1]',          \n",
      "                                                                  'bidirectional[0][3]']          \n",
      "                                                                                                  \n",
      " concatenate_1 (Concatenate)    (None, 512)          0           ['bidirectional[0][2]',          \n",
      "                                                                  'bidirectional[0][4]']          \n",
      "                                                                                                  \n",
      "==================================================================================================\n",
      "Total params: 583,680\n",
      "Trainable params: 583,680\n",
      "Non-trainable params: 0\n",
      "__________________________________________________________________________________________________\n"
     ]
    }
   ],
   "source": [
    "from IPython.display import SVG\n",
    "from keras.utils.vis_utils import model_to_dot, plot_model\n",
    "\n",
    "SVG(model_to_dot(encoder_model, show_shapes=False).create(prog='dot', format='svg'))\n",
    "\n",
    "plot_model(\n",
    "    model=encoder_model, show_shapes=False,\n",
    "    to_file='encoder.pdf'\n",
    ")\n",
    "\n",
    "encoder_model.summary()"
   ]
  },
  {
   "cell_type": "markdown",
   "metadata": {},
   "source": [
    "### 3.2. Decoder network\n",
    "\n",
    "- Inputs:  \n",
    "\n",
    "    -- one-hot encode of the target language\n",
    "    \n",
    "    -- The initial hidden state $h_t$ \n",
    "    \n",
    "    -- The initial conveyor belt $c_t$ \n",
    "\n",
    "- Return: \n",
    "\n",
    "    -- output (all the hidden states) $h_1, \\cdots , h_t$\n",
    "\n",
    "    -- the final hidden state  $h_t$ (discarded in the training and used in the prediction)\n",
    "    \n",
    "    -- the final conveyor belt $c_t$ (discarded in the training and used in the prediction)"
   ]
  },
  {
   "cell_type": "code",
   "execution_count": 14,
   "metadata": {},
   "outputs": [],
   "source": [
    "from keras.layers import Input, LSTM, Dense, Bidirectional\n",
    "from keras.models import Model\n",
    "\n",
    "# inputs of the decoder network\n",
    "decoder_input_h = Input(shape=(latent_dim * 2,), name='decoder_input_h')\n",
    "decoder_input_c = Input(shape=(latent_dim * 2,), name='decoder_input_c')\n",
    "decoder_input_x = Input(shape=(None, num_decoder_tokens), name='decoder_input_x')\n",
    "\n",
    "# set the LSTM layer\n",
    "decoder_lstm = LSTM(latent_dim * 2, return_sequences=True, \n",
    "                    return_state=True, dropout=0.5, name='decoder_lstm')\n",
    "decoder_lstm_outputs, state_h, state_c = decoder_lstm(decoder_input_x, \n",
    "                                                      initial_state=[decoder_input_h, decoder_input_c])\n",
    "\n",
    "# set the dense layer\n",
    "decoder_dense = Dense(num_decoder_tokens, activation='softmax', name='decoder_dense')\n",
    "decoder_outputs = decoder_dense(decoder_lstm_outputs)\n",
    "\n",
    "# build the decoder network model\n",
    "decoder_model = Model(inputs=[decoder_input_x, decoder_input_h, decoder_input_c],\n",
    "                      outputs=[decoder_outputs, state_h, state_c],\n",
    "                      name='decoder')"
   ]
  },
  {
   "cell_type": "markdown",
   "metadata": {},
   "source": [
    "Print a summary and save the encoder network structure to \"./decoder.pdf\""
   ]
  },
  {
   "cell_type": "code",
   "execution_count": 15,
   "metadata": {},
   "outputs": [
    {
     "name": "stdout",
     "output_type": "stream",
     "text": [
      "Model: \"decoder\"\n",
      "__________________________________________________________________________________________________\n",
      " Layer (type)                   Output Shape         Param #     Connected to                     \n",
      "==================================================================================================\n",
      " decoder_input_x (InputLayer)   [(None, None, 30)]   0           []                               \n",
      "                                                                                                  \n",
      " decoder_input_h (InputLayer)   [(None, 512)]        0           []                               \n",
      "                                                                                                  \n",
      " decoder_input_c (InputLayer)   [(None, 512)]        0           []                               \n",
      "                                                                                                  \n",
      " decoder_lstm (LSTM)            [(None, None, 512),  1112064     ['decoder_input_x[0][0]',        \n",
      "                                 (None, 512),                     'decoder_input_h[0][0]',        \n",
      "                                 (None, 512)]                     'decoder_input_c[0][0]']        \n",
      "                                                                                                  \n",
      " decoder_dense (Dense)          (None, None, 30)     15390       ['decoder_lstm[0][0]']           \n",
      "                                                                                                  \n",
      "==================================================================================================\n",
      "Total params: 1,127,454\n",
      "Trainable params: 1,127,454\n",
      "Non-trainable params: 0\n",
      "__________________________________________________________________________________________________\n"
     ]
    }
   ],
   "source": [
    "from IPython.display import SVG\n",
    "from keras.utils.vis_utils import model_to_dot, plot_model\n",
    "\n",
    "SVG(model_to_dot(decoder_model, show_shapes=False).create(prog='dot', format='svg'))\n",
    "\n",
    "plot_model(\n",
    "    model=decoder_model, show_shapes=False,\n",
    "    to_file='decoder.pdf'\n",
    ")\n",
    "\n",
    "decoder_model.summary()"
   ]
  },
  {
   "cell_type": "markdown",
   "metadata": {},
   "source": [
    "### 3.3. Connect the encoder and decoder"
   ]
  },
  {
   "cell_type": "code",
   "execution_count": 16,
   "metadata": {},
   "outputs": [],
   "source": [
    "# input layers\n",
    "encoder_input_x = Input(shape=(None, num_encoder_tokens), name='encoder_input_x')\n",
    "decoder_input_x = Input(shape=(None, num_decoder_tokens), name='decoder_input_x')\n",
    "\n",
    "# connect encoder to decoder\n",
    "encoder_final_states = encoder_model([encoder_input_x])\n",
    "decoder_lstm_output, _, _ = decoder_lstm(decoder_input_x, initial_state=encoder_final_states)\n",
    "decoder_pred = decoder_dense(decoder_lstm_output)\n",
    "\n",
    "model = Model(inputs=[encoder_input_x, decoder_input_x], \n",
    "              outputs=decoder_pred, \n",
    "              name='model_training')"
   ]
  },
  {
   "cell_type": "code",
   "execution_count": 17,
   "metadata": {},
   "outputs": [
    {
     "name": "stdout",
     "output_type": "stream",
     "text": [
      "Model: \"model_training\"\n",
      "__________________________________________________________________________________________________\n",
      " Layer (type)                   Output Shape         Param #     Connected to                     \n",
      "==================================================================================================\n",
      " encoder_input_x (InputLayer)   [(None, None, 28)]   0           []                               \n",
      "                                                                                                  \n",
      " decoder_input_x (InputLayer)   [(None, None, 30)]   0           []                               \n",
      "                                                                                                  \n",
      " encoder (Functional)           [(None, 512),        583680      ['encoder_input_x[0][0]']        \n",
      "                                 (None, 512)]                                                     \n",
      "                                                                                                  \n",
      " decoder_lstm (LSTM)            [(None, None, 512),  1112064     ['decoder_input_x[0][0]',        \n",
      "                                 (None, 512),                     'encoder[0][0]',                \n",
      "                                 (None, 512)]                     'encoder[0][1]']                \n",
      "                                                                                                  \n",
      " decoder_dense (Dense)          (None, None, 30)     15390       ['decoder_lstm[1][0]']           \n",
      "                                                                                                  \n",
      "==================================================================================================\n",
      "Total params: 1,711,134\n",
      "Trainable params: 1,711,134\n",
      "Non-trainable params: 0\n",
      "__________________________________________________________________________________________________\n"
     ]
    }
   ],
   "source": [
    "from IPython.display import SVG\n",
    "from keras.utils.vis_utils import model_to_dot, plot_model\n",
    "\n",
    "SVG(model_to_dot(model, show_shapes=False).create(prog='dot', format='svg'))\n",
    "\n",
    "plot_model(\n",
    "    model=model, show_shapes=False,\n",
    "    to_file='model_training.pdf'\n",
    ")\n",
    "\n",
    "model.summary()"
   ]
  },
  {
   "cell_type": "markdown",
   "metadata": {},
   "source": [
    "### 3.4. Fit the model on the bilingual dataset\n",
    "\n",
    "- encoder_input_data: one-hot encode of the input language\n",
    "\n",
    "- decoder_input_data: one-hot encode of the input language\n",
    "\n",
    "- decoder_target_data: labels (left shift of decoder_input_data)\n",
    "\n",
    "- tune the hyper-parameters\n",
    "\n",
    "- stop when the validation loss stop decreasing."
   ]
  },
  {
   "cell_type": "code",
   "execution_count": 18,
   "metadata": {},
   "outputs": [
    {
     "name": "stdout",
     "output_type": "stream",
     "text": [
      "shape of encoder_input_data(20000, 18, 28)\n",
      "shape of decoder_input_data(20000, 55, 30)\n",
      "shape of decoder_target_data(20000, 55, 30)\n"
     ]
    }
   ],
   "source": [
    "print('shape of encoder_input_data' + str(encoder_input_data.shape))\n",
    "print('shape of decoder_input_data' + str(decoder_input_data.shape))\n",
    "print('shape of decoder_target_data' + str(decoder_target_data.shape))"
   ]
  },
  {
   "cell_type": "code",
   "execution_count": 19,
   "metadata": {},
   "outputs": [
    {
     "name": "stdout",
     "output_type": "stream",
     "text": [
      "Epoch 1/50\n",
      "250/250 [==============================] - 7s 15ms/step - loss: 0.9239 - val_loss: 0.8507\n",
      "Epoch 2/50\n",
      "250/250 [==============================] - 3s 12ms/step - loss: 0.7157 - val_loss: 0.7432\n",
      "Epoch 3/50\n",
      "250/250 [==============================] - 3s 13ms/step - loss: 0.6737 - val_loss: 0.6810\n",
      "Epoch 4/50\n",
      "250/250 [==============================] - 3s 12ms/step - loss: 0.6446 - val_loss: 0.6469\n",
      "Epoch 5/50\n",
      "250/250 [==============================] - 3s 12ms/step - loss: 0.6214 - val_loss: 0.6087\n",
      "Epoch 6/50\n",
      "250/250 [==============================] - 3s 13ms/step - loss: 0.6045 - val_loss: 0.5877\n",
      "Epoch 7/50\n",
      "250/250 [==============================] - 3s 12ms/step - loss: 0.5864 - val_loss: 0.5737\n",
      "Epoch 8/50\n",
      "250/250 [==============================] - 3s 12ms/step - loss: 0.5745 - val_loss: 0.5581\n",
      "Epoch 9/50\n",
      "250/250 [==============================] - 3s 12ms/step - loss: 0.5613 - val_loss: 0.5445\n",
      "Epoch 10/50\n",
      "250/250 [==============================] - 3s 12ms/step - loss: 0.5517 - val_loss: 0.5377\n",
      "Epoch 11/50\n",
      "250/250 [==============================] - 3s 12ms/step - loss: 0.5416 - val_loss: 0.5219\n",
      "Epoch 12/50\n",
      "250/250 [==============================] - 3s 12ms/step - loss: 0.5311 - val_loss: 0.5130\n",
      "Epoch 13/50\n",
      "250/250 [==============================] - 3s 12ms/step - loss: 0.5241 - val_loss: 0.5083\n",
      "Epoch 14/50\n",
      "250/250 [==============================] - 3s 12ms/step - loss: 0.5156 - val_loss: 0.4994\n",
      "Epoch 15/50\n",
      "250/250 [==============================] - 3s 12ms/step - loss: 0.5066 - val_loss: 0.4906\n",
      "Epoch 16/50\n",
      "250/250 [==============================] - 3s 12ms/step - loss: 0.5023 - val_loss: 0.4842\n",
      "Epoch 17/50\n",
      "250/250 [==============================] - 3s 12ms/step - loss: 0.4937 - val_loss: 0.4847\n",
      "Epoch 18/50\n",
      "250/250 [==============================] - 3s 12ms/step - loss: 0.4888 - val_loss: 0.4785\n",
      "Epoch 19/50\n",
      "250/250 [==============================] - 3s 12ms/step - loss: 0.4825 - val_loss: 0.4745\n",
      "Epoch 20/50\n",
      "250/250 [==============================] - 3s 12ms/step - loss: 0.4780 - val_loss: 0.4670\n",
      "Epoch 21/50\n",
      "250/250 [==============================] - 3s 12ms/step - loss: 0.4727 - val_loss: 0.4652\n",
      "Epoch 22/50\n",
      "250/250 [==============================] - 3s 12ms/step - loss: 0.4666 - val_loss: 0.4634\n",
      "Epoch 23/50\n",
      "250/250 [==============================] - 3s 12ms/step - loss: 0.4633 - val_loss: 0.4571\n",
      "Epoch 24/50\n",
      "250/250 [==============================] - 3s 12ms/step - loss: 0.4568 - val_loss: 0.4615\n",
      "Epoch 25/50\n",
      "250/250 [==============================] - 3s 12ms/step - loss: 0.4549 - val_loss: 0.4540\n",
      "Epoch 26/50\n",
      "250/250 [==============================] - 3s 12ms/step - loss: 0.4498 - val_loss: 0.4505\n",
      "Epoch 27/50\n",
      "250/250 [==============================] - 3s 12ms/step - loss: 0.4470 - val_loss: 0.4468\n",
      "Epoch 28/50\n",
      "250/250 [==============================] - 3s 12ms/step - loss: 0.4429 - val_loss: 0.4482\n",
      "Epoch 29/50\n",
      "250/250 [==============================] - 3s 12ms/step - loss: 0.4395 - val_loss: 0.4429\n",
      "Epoch 30/50\n",
      "250/250 [==============================] - 3s 12ms/step - loss: 0.4340 - val_loss: 0.4420\n",
      "Epoch 31/50\n",
      "250/250 [==============================] - 3s 12ms/step - loss: 0.4310 - val_loss: 0.4406\n",
      "Epoch 32/50\n",
      "250/250 [==============================] - 3s 12ms/step - loss: 0.4291 - val_loss: 0.4444\n",
      "Epoch 33/50\n",
      "250/250 [==============================] - 3s 12ms/step - loss: 0.4254 - val_loss: 0.4389\n",
      "Epoch 34/50\n",
      "250/250 [==============================] - 3s 12ms/step - loss: 0.4217 - val_loss: 0.4384\n",
      "Epoch 35/50\n",
      "250/250 [==============================] - 3s 12ms/step - loss: 0.4192 - val_loss: 0.4342\n",
      "Epoch 36/50\n",
      "250/250 [==============================] - 3s 12ms/step - loss: 0.4155 - val_loss: 0.4364\n",
      "Epoch 37/50\n",
      "250/250 [==============================] - 3s 12ms/step - loss: 0.4129 - val_loss: 0.4356\n",
      "Epoch 38/50\n",
      "250/250 [==============================] - 3s 12ms/step - loss: 0.4100 - val_loss: 0.4347\n",
      "Epoch 39/50\n",
      "250/250 [==============================] - 3s 12ms/step - loss: 0.4084 - val_loss: 0.4326\n",
      "Epoch 40/50\n",
      "250/250 [==============================] - 3s 12ms/step - loss: 0.4033 - val_loss: 0.4315\n",
      "Epoch 41/50\n",
      "250/250 [==============================] - 3s 12ms/step - loss: 0.4026 - val_loss: 0.4336\n",
      "Epoch 42/50\n",
      "250/250 [==============================] - 3s 12ms/step - loss: 0.4008 - val_loss: 0.4317\n",
      "Epoch 43/50\n",
      "250/250 [==============================] - 3s 12ms/step - loss: 0.3985 - val_loss: 0.4329\n",
      "Epoch 44/50\n",
      "250/250 [==============================] - 3s 12ms/step - loss: 0.3934 - val_loss: 0.4310\n",
      "Epoch 45/50\n",
      "250/250 [==============================] - 3s 12ms/step - loss: 0.3936 - val_loss: 0.4334\n",
      "Epoch 46/50\n",
      "250/250 [==============================] - 3s 13ms/step - loss: 0.3898 - val_loss: 0.4323\n",
      "Epoch 47/50\n",
      "250/250 [==============================] - 3s 13ms/step - loss: 0.3886 - val_loss: 0.4281\n",
      "Epoch 48/50\n",
      "250/250 [==============================] - 3s 12ms/step - loss: 0.3842 - val_loss: 0.4318\n",
      "Epoch 49/50\n",
      "250/250 [==============================] - 3s 12ms/step - loss: 0.3857 - val_loss: 0.4283\n",
      "Epoch 50/50\n",
      "250/250 [==============================] - 3s 12ms/step - loss: 0.3820 - val_loss: 0.4266\n"
     ]
    }
   ],
   "source": [
    "model.compile(optimizer='rmsprop', loss='categorical_crossentropy')\n",
    "\n",
    "model.fit([encoder_input_data, decoder_input_data],  # training data\n",
    "          decoder_target_data,                       # labels (left shift of the target sequences)\n",
    "          batch_size=64, epochs=50, validation_split=0.2)\n",
    "model.save('seq2seq.h5')"
   ]
  },
  {
   "cell_type": "markdown",
   "metadata": {},
   "source": [
    "## 4. Make predictions\n",
    "\n",
    "- In this section, you need to complete section 4.2 to translate English to the target language.\n",
    "\n",
    "\n",
    "### 4.1. Translate English to XXX\n",
    "\n",
    "1. Encoder read a sentence (source language) and output its final states, $h_t$ and $c_t$.\n",
    "2. Take the [star] sign \"\\t\" and the final state $h_t$ and $c_t$ as input and run the decoder.\n",
    "3. Get the new states and predicted probability distribution.\n",
    "4. sample a char from the predicted probability distribution\n",
    "5. take the sampled char and the new states as input and repeat the process (stop if reach the [stop] sign \"\\n\")."
   ]
  },
  {
   "cell_type": "code",
   "execution_count": 20,
   "metadata": {},
   "outputs": [],
   "source": [
    "# Reverse-lookup token index to decode sequences back to something readable.\n",
    "reverse_input_char_index = dict((i, char) for char, i in input_token_index.items())\n",
    "reverse_target_char_index = dict((i, char) for char, i in target_token_index.items())"
   ]
  },
  {
   "cell_type": "code",
   "execution_count": 21,
   "metadata": {},
   "outputs": [],
   "source": [
    "def decode_sequence(input_seq):\n",
    "    states_value = encoder_model.predict(input_seq)\n",
    "\n",
    "    target_seq = numpy.zeros((1, 1, num_decoder_tokens))\n",
    "    target_seq[0, 0, target_token_index['\\t']] = 1.\n",
    "\n",
    "    stop_condition = False\n",
    "    decoded_sentence = ''\n",
    "    while not stop_condition:\n",
    "        output_tokens, h, c = decoder_model.predict([target_seq] + states_value)\n",
    "\n",
    "        # this line of code is greedy selection\n",
    "        # try to use multinomial sampling instead (with temperature)\n",
    "        sampled_token_index = numpy.argmax(output_tokens[0, -1, :])\n",
    "        \n",
    "        sampled_char = reverse_target_char_index[sampled_token_index]\n",
    "        decoded_sentence += sampled_char\n",
    "\n",
    "        if (sampled_char == '\\n' or\n",
    "           len(decoded_sentence) > max_decoder_seq_length):\n",
    "            stop_condition = True\n",
    "\n",
    "        target_seq = numpy.zeros((1, 1, num_decoder_tokens))\n",
    "        target_seq[0, 0, sampled_token_index] = 1.\n",
    "\n",
    "        states_value = [h, c]\n",
    "\n",
    "    return decoded_sentence"
   ]
  },
  {
   "cell_type": "code",
   "execution_count": 22,
   "metadata": {},
   "outputs": [
    {
     "name": "stdout",
     "output_type": "stream",
     "text": [
      "-\n",
      "English:        hes skinny\n",
      "Spanish (true):  el esta delgado\n",
      "Spanish (pred):  el esta enferma\n",
      "-\n",
      "English:        hes strong\n",
      "Spanish (true):  el es fuerte\n",
      "Spanish (pred):  el es a enfermo\n",
      "-\n",
      "English:        hes stupid\n",
      "Spanish (true):  el es estupido\n",
      "Spanish (pred):  el es astupido\n",
      "-\n",
      "English:        hes stupid\n",
      "Spanish (true):  no le llega agua al tanque\n",
      "Spanish (pred):  el es astupido\n",
      "-\n",
      "English:        hes stupid\n",
      "Spanish (true):  es un salame\n",
      "Spanish (pred):  el es astupido\n",
      "-\n",
      "English:        help me out\n",
      "Spanish (true):  ayudame\n",
      "Spanish (pred):  ayudame a solir\n",
      "-\n",
      "English:        help me out\n",
      "Spanish (true):  ayudame a salir\n",
      "Spanish (pred):  ayudame a solir\n",
      "-\n",
      "English:        help me out\n",
      "Spanish (true):  echeme la mano\n",
      "Spanish (pred):  ayudame a solir\n",
      "-\n",
      "English:        help me out\n",
      "Spanish (true):  ayudame a salir\n",
      "Spanish (pred):  ayudame a solir\n",
      "-\n",
      "English:        here i come\n",
      "Spanish (true):  aqui vengo\n",
      "Spanish (pred):  aqui esta el mio\n",
      "-\n",
      "English:        here i come\n",
      "Spanish (true):  ya estoy aqui\n",
      "Spanish (pred):  aqui esta el mio\n",
      "-\n",
      "English:        here she is\n",
      "Spanish (true):  aqui esta ella\n",
      "Spanish (pred):  toma prueba esto\n",
      "-\n",
      "English:        here we are\n",
      "Spanish (true):  aqui estamos\n",
      "Spanish (pred):  aqui estamos\n",
      "-\n",
      "English:        here we are\n",
      "Spanish (true):  aqui estamos\n",
      "Spanish (pred):  aqui estamos\n",
      "-\n",
      "English:        hi im tom\n",
      "Spanish (true):  hola soy tom\n",
      "Spanish (pred):  hola dom\n",
      "-\n",
      "English:        hit it hard\n",
      "Spanish (true):  dele fuerte\n",
      "Spanish (pred):  halla el casa\n",
      "-\n",
      "English:        how are you\n",
      "Spanish (true):  como estas vos\n",
      "Spanish (pred):  como estas todos\n",
      "-\n",
      "English:        how curious\n",
      "Spanish (true):  que curioso\n",
      "Spanish (pred):  que tal esta enfermo\n",
      "-\n",
      "English:        how strange\n",
      "Spanish (true):  que raro\n",
      "Spanish (pred):  que cara\n",
      "-\n",
      "English:        how strange\n",
      "Spanish (true):  que raro\n",
      "Spanish (pred):  que cara\n"
     ]
    }
   ],
   "source": [
    "for seq_index in range(2100, 2120):\n",
    "    # Take one sequence (part of the training set)\n",
    "    # for trying out decoding.\n",
    "    input_seq = encoder_input_data[seq_index: seq_index + 1]\n",
    "    decoded_sentence = decode_sequence(input_seq)\n",
    "    print('-')\n",
    "    print('English:       ', input_texts[seq_index])\n",
    "    print('Spanish (true): ', target_texts[seq_index][1:-1])\n",
    "    print('Spanish (pred): ', decoded_sentence[0:-1])"
   ]
  },
  {
   "cell_type": "markdown",
   "metadata": {},
   "source": [
    "### 4.2. Translate an English sentence to the target language （20 points）\n",
    "\n",
    "1. Tokenization\n",
    "2. One-hot encode\n",
    "3. Translate"
   ]
  },
  {
   "cell_type": "code",
   "execution_count": 23,
   "metadata": {},
   "outputs": [
    {
     "name": "stdout",
     "output_type": "stream",
     "text": [
      "source sentence is: I love you\n",
      "translated sentence is: toma esta en casa\n",
      "\n"
     ]
    }
   ],
   "source": [
    "input_sentence = 'I love you'\n",
    "\n",
    "input_sequence, _ = text2sequences(max_encoder_seq_length, [input_sentence])\n",
    "input_x = onehot_encode(input_sequence, max_encoder_seq_length, num_encoder_tokens)\n",
    "translated_sentence = decode_sequence(input_x)\n",
    "\n",
    "print('source sentence is: ' + input_sentence)\n",
    "print('translated sentence is: ' + translated_sentence)"
   ]
  },
  {
   "cell_type": "markdown",
   "metadata": {},
   "source": [
    "# 5. Evaluate the translation using BLEU score\n",
    "\n",
    "- We have already translated from English to target language, but how can we evaluate the performance of our model quantitatively? \n",
    "\n",
    "- In this section, you need to re-train the model we built in secton 3 and then evaluate the bleu score on testing dataset.\n",
    "\n",
    "Reference:\n",
    "\n",
    "https://machinelearningmastery.com/calculate-bleu-score-for-text-python/\n",
    "\n",
    "https://en.wikipedia.org/wiki/BLEU\n",
    "\n",
    "#### Hint:\n",
    "\n",
    "- Randomly partition the dataset to training, validation, and test.\n",
    "\n",
    "- Evaluate the BLEU score using the test set. Report the average.\n",
    "\n",
    "- You may use packages to calculate bleu score, e.g., sentence_bleu() from nltk package."
   ]
  },
  {
   "cell_type": "markdown",
   "metadata": {},
   "source": [
    "### 5.1. Partition the dataset to training, validation, and test. Build new token index. (10 points)\n",
    "\n",
    "1. You may try to load more data/lines from text file.\n",
    "2. Convert text to sequences and build token index using training data.\n",
    "3. One-hot encode your training and validation text sequences."
   ]
  },
  {
   "cell_type": "code",
   "execution_count": 69,
   "metadata": {},
   "outputs": [],
   "source": [
    "import numpy as np\n",
    "# clean sentences\n",
    "clean_pairs = clean_data(pairs)[0:51000, :]\n",
    "# Shuffle array\n",
    "np.random.shuffle(clean_pairs)"
   ]
  },
  {
   "cell_type": "code",
   "execution_count": 70,
   "metadata": {},
   "outputs": [],
   "source": [
    "train_input_texts = clean_pairs[0:40000, 0]\n",
    "train_target_texts = ['\\t' + text + '\\n' for text in clean_pairs[0:40000, 1]]\n",
    "\n",
    "max_encoder_seq_length = max(len(line) for line in train_input_texts)\n",
    "max_decoder_seq_length = max(len(line) for line in train_target_texts)\n",
    "\n",
    "train_encoder_input_seq, train_input_token_index = text2sequences(max_encoder_seq_length, train_input_texts)\n",
    "train_decoder_input_seq, train_target_token_index = text2sequences(max_decoder_seq_length, train_target_texts)\n",
    "\n",
    "train_num_encoder_tokens = len(train_input_token_index) + 1\n",
    "train_num_decoder_tokens = len(train_target_token_index) + 1\n",
    "\n",
    "train_num_encoder_tokens = num_encoder_tokens\n",
    "train_num_decoder_tokens = num_decoder_tokens\n",
    "\n",
    "train_encoder_input_data = onehot_encode(train_encoder_input_seq, max_encoder_seq_length, train_num_encoder_tokens)\n",
    "train_decoder_input_data = onehot_encode(train_decoder_input_seq, max_decoder_seq_length, train_num_decoder_tokens)\n",
    "\n",
    "train_decoder_target_seq = numpy.zeros(train_decoder_input_seq.shape)\n",
    "train_decoder_target_seq[:, 0:-1] = train_decoder_input_seq[:, 1:]\n",
    "train_decoder_target_data = onehot_encode(train_decoder_target_seq, max_decoder_seq_length, train_num_decoder_tokens)"
   ]
  },
  {
   "cell_type": "code",
   "execution_count": 71,
   "metadata": {},
   "outputs": [],
   "source": [
    "val_input_texts = clean_pairs[40000:50000, 0]\n",
    "val_target_texts = ['\\t' + text + '\\n' for text in clean_pairs[40000:50000, 1]]\n",
    "\n",
    "max_encoder_seq_length = max(len(line) for line in val_input_texts)\n",
    "max_decoder_seq_length = max(len(line) for line in val_target_texts)\n",
    "\n",
    "val_encoder_input_seq, val_input_token_index = text2sequences(max_encoder_seq_length, val_input_texts)\n",
    "val_decoder_input_seq, val_target_token_index = text2sequences(max_decoder_seq_length, val_target_texts)\n",
    "\n",
    "val_num_encoder_tokens = len(val_input_token_index) + 1\n",
    "val_num_decoder_tokens = len(val_target_token_index) + 1\n",
    "\n",
    "val_encoder_input_data = onehot_encode(val_encoder_input_seq, max_encoder_seq_length, val_num_encoder_tokens)\n",
    "val_decoder_input_data = onehot_encode(val_decoder_input_seq, max_decoder_seq_length, val_num_decoder_tokens)\n",
    "\n",
    "val_decoder_target_seq = numpy.zeros(val_decoder_input_seq.shape)\n",
    "val_decoder_target_seq[:, 0:-1] = val_decoder_input_seq[:, 1:]\n",
    "val_decoder_target_data = onehot_encode(val_decoder_target_seq, max_decoder_seq_length, val_num_decoder_tokens)"
   ]
  },
  {
   "cell_type": "code",
   "execution_count": 72,
   "metadata": {},
   "outputs": [],
   "source": [
    "test_input_texts = clean_pairs[50000:51000, 0]\n",
    "test_target_texts = ['\\t' + text + '\\n' for text in clean_pairs[50000:51000, 1]]\n",
    "\n",
    "max_encoder_seq_length = max(len(line) for line in test_input_texts)\n",
    "test_encoder_input_seq, test_input_token_index = text2sequences(max_encoder_seq_length, test_input_texts)\n",
    "test_num_encoder_tokens = len(test_input_token_index) + 1\n",
    "test_encoder_input_data = onehot_encode(test_encoder_input_seq, max_encoder_seq_length, test_num_encoder_tokens)"
   ]
  },
  {
   "cell_type": "markdown",
   "metadata": {},
   "source": [
    "### 5.2 Retrain your previous Bidirectional LSTM model with training and validation data and tune the parameters (learning rate, optimizer, etc) based on validation score. (25 points)\n",
    "\n",
    "1. Use the model structure in section 3 to train a new model with new training and validation datasets.\n",
    "2. Based on validation BLEU score or loss to tune parameters."
   ]
  },
  {
   "cell_type": "code",
   "execution_count": 73,
   "metadata": {},
   "outputs": [],
   "source": [
    "latent_dim = 256\n",
    "\n",
    "# inputs of the encoder network\n",
    "encoder_inputs = Input(shape=(None, train_num_encoder_tokens), \n",
    "                       name='encoder_inputs')\n",
    "\n",
    "encoder_biLSTM = Bidirectional(LSTM(latent_dim, dropout=0.6, return_state=True,name='encoder_lstm'))\n",
    "_, forward_h, forward_c, backward_h, backward_c = encoder_biLSTM(encoder_inputs)\n",
    "\n",
    "state_h = Concatenate()([forward_h, backward_h])\n",
    "state_c = Concatenate()([forward_c, backward_c])\n",
    "\n",
    "# build the encoder network model\n",
    "encoder_model = Model(inputs=encoder_inputs, outputs=[state_h, state_c], name='encoder')"
   ]
  },
  {
   "cell_type": "code",
   "execution_count": 74,
   "metadata": {},
   "outputs": [],
   "source": [
    "# inputs of the decoder network\n",
    "decoder_input_h = Input(shape=(latent_dim * 2,), name = 'decoder_input_h')\n",
    "decoder_input_c = Input(shape=(latent_dim * 2,), name = 'decoder_input_c')\n",
    "decoder_input_x = Input(shape=(None, train_num_decoder_tokens), name = 'decoder_input_x')\n",
    "\n",
    "# set the LSTM layer\n",
    "decoder_lstm = LSTM(latent_dim * 2, return_sequences=True, \n",
    "                    dropout=0.6,return_state=True, name='decoder_lstm')\n",
    "decoder_lstm_outputs, state_h, state_c = decoder_lstm(decoder_input_x, initial_state=[decoder_input_h, decoder_input_c])\n",
    "\n",
    "# set the dense layer\n",
    "decoder_dense = Dense(train_num_decoder_tokens, activation='softmax', name='decoder_dense')\n",
    "decoder_outputs = decoder_dense(decoder_lstm_outputs)\n",
    "\n",
    "# build the decoder network model\n",
    "decoder_model = Model(inputs=[decoder_input_x, decoder_input_h, decoder_input_c],\n",
    "                      outputs=[decoder_outputs, state_h, state_c],\n",
    "                      name='decoder')"
   ]
  },
  {
   "cell_type": "code",
   "execution_count": 75,
   "metadata": {},
   "outputs": [],
   "source": [
    "# input layers\n",
    "encoder_input_x = Input(shape=(None, train_num_encoder_tokens), name='encoder_input_x')\n",
    "decoder_input_x = Input(shape=(None, train_num_decoder_tokens), name='decoder_input_x')\n",
    "\n",
    "# connect encoder to decoder\n",
    "encoder_final_states = encoder_model([encoder_input_x])\n",
    "decoder_lstm_output, _, _ = decoder_lstm(decoder_input_x, initial_state=encoder_final_states)\n",
    "decoder_pred = decoder_dense(decoder_lstm_output)\n",
    "\n",
    "model = Model(inputs=[encoder_input_x, decoder_input_x], \n",
    "              outputs=decoder_pred, \n",
    "              name='model_training')"
   ]
  },
  {
   "cell_type": "code",
   "execution_count": 76,
   "metadata": {},
   "outputs": [
    {
     "name": "stdout",
     "output_type": "stream",
     "text": [
      "Epoch 1/50\n",
      "1250/1250 [==============================] - 18s 13ms/step - loss: 0.9673 - val_loss: 0.5906\n",
      "Epoch 2/50\n",
      "1250/1250 [==============================] - 15s 12ms/step - loss: 0.8524 - val_loss: 0.5369\n",
      "Epoch 3/50\n",
      "1250/1250 [==============================] - 15s 12ms/step - loss: 0.8140 - val_loss: 0.4950\n",
      "Epoch 4/50\n",
      "1250/1250 [==============================] - 15s 12ms/step - loss: 0.7889 - val_loss: 0.4733\n",
      "Epoch 5/50\n",
      "1250/1250 [==============================] - 15s 12ms/step - loss: 0.7685 - val_loss: 0.4517\n",
      "Epoch 6/50\n",
      "1250/1250 [==============================] - 15s 12ms/step - loss: 0.7534 - val_loss: 0.4380\n",
      "Epoch 7/50\n",
      "1250/1250 [==============================] - 15s 12ms/step - loss: 0.7414 - val_loss: 0.4263\n",
      "Epoch 8/50\n",
      "1250/1250 [==============================] - 15s 12ms/step - loss: 0.7307 - val_loss: 0.4143\n",
      "Epoch 9/50\n",
      "1250/1250 [==============================] - 15s 12ms/step - loss: 0.7217 - val_loss: 0.4075\n",
      "Epoch 10/50\n",
      "1250/1250 [==============================] - 15s 12ms/step - loss: 0.7128 - val_loss: 0.4014\n",
      "Epoch 11/50\n",
      "1250/1250 [==============================] - 15s 12ms/step - loss: 0.7047 - val_loss: 0.3942\n",
      "Epoch 12/50\n",
      "1250/1250 [==============================] - 15s 12ms/step - loss: 0.6985 - val_loss: 0.3879\n",
      "Epoch 13/50\n",
      "1250/1250 [==============================] - 15s 12ms/step - loss: 0.6937 - val_loss: 0.3820\n",
      "Epoch 14/50\n",
      "1250/1250 [==============================] - 15s 12ms/step - loss: 0.6878 - val_loss: 0.3791\n",
      "Epoch 15/50\n",
      "1250/1250 [==============================] - 15s 12ms/step - loss: 0.6830 - val_loss: 0.3742\n",
      "Epoch 16/50\n",
      "1250/1250 [==============================] - 15s 12ms/step - loss: 0.6775 - val_loss: 0.3717\n",
      "Epoch 17/50\n",
      "1250/1250 [==============================] - 15s 12ms/step - loss: 0.6748 - val_loss: 0.3701\n",
      "Epoch 18/50\n",
      "1250/1250 [==============================] - 15s 12ms/step - loss: 0.6709 - val_loss: 0.3656\n",
      "Epoch 19/50\n",
      "1250/1250 [==============================] - 15s 12ms/step - loss: 0.6661 - val_loss: 0.3623\n",
      "Epoch 20/50\n",
      "1250/1250 [==============================] - 15s 12ms/step - loss: 0.6639 - val_loss: 0.3570\n",
      "Epoch 21/50\n",
      "1250/1250 [==============================] - 15s 12ms/step - loss: 0.6583 - val_loss: 0.3565\n",
      "Epoch 22/50\n",
      "1250/1250 [==============================] - 15s 12ms/step - loss: 0.6568 - val_loss: 0.3534\n",
      "Epoch 23/50\n",
      "1250/1250 [==============================] - 15s 12ms/step - loss: 0.6542 - val_loss: 0.3523\n",
      "Epoch 24/50\n",
      "1250/1250 [==============================] - 15s 12ms/step - loss: 0.6491 - val_loss: 0.3501\n",
      "Epoch 25/50\n",
      "1250/1250 [==============================] - 15s 12ms/step - loss: 0.6478 - val_loss: 0.3472\n",
      "Epoch 26/50\n",
      "1250/1250 [==============================] - 15s 12ms/step - loss: 0.6447 - val_loss: 0.3467\n",
      "Epoch 27/50\n",
      "1250/1250 [==============================] - 15s 12ms/step - loss: 0.6415 - val_loss: 0.3448\n",
      "Epoch 28/50\n",
      "1250/1250 [==============================] - 15s 12ms/step - loss: 0.6400 - val_loss: 0.3430\n",
      "Epoch 29/50\n",
      "1250/1250 [==============================] - 15s 12ms/step - loss: 0.6350 - val_loss: 0.3412\n",
      "Epoch 30/50\n",
      "1250/1250 [==============================] - 15s 12ms/step - loss: 0.6351 - val_loss: 0.3402\n",
      "Epoch 31/50\n",
      "1250/1250 [==============================] - 15s 12ms/step - loss: 0.6312 - val_loss: 0.3383\n",
      "Epoch 32/50\n",
      "1250/1250 [==============================] - 15s 12ms/step - loss: 0.6290 - val_loss: 0.3384\n",
      "Epoch 33/50\n",
      "1250/1250 [==============================] - 15s 12ms/step - loss: 0.6293 - val_loss: 0.3367\n",
      "Epoch 34/50\n",
      "1250/1250 [==============================] - 15s 12ms/step - loss: 0.6269 - val_loss: 0.3353\n",
      "Epoch 35/50\n",
      "1250/1250 [==============================] - 15s 12ms/step - loss: 0.6236 - val_loss: 0.3346\n",
      "Epoch 36/50\n",
      "1250/1250 [==============================] - 15s 12ms/step - loss: 0.6223 - val_loss: 0.3316\n",
      "Epoch 37/50\n",
      "1250/1250 [==============================] - 15s 12ms/step - loss: 0.6210 - val_loss: 0.3289\n",
      "Epoch 38/50\n",
      "1250/1250 [==============================] - 15s 12ms/step - loss: 0.6193 - val_loss: 0.3299\n",
      "Epoch 39/50\n",
      "1250/1250 [==============================] - 15s 12ms/step - loss: 0.6164 - val_loss: 0.3281\n",
      "Epoch 40/50\n",
      "1250/1250 [==============================] - 15s 12ms/step - loss: 0.6156 - val_loss: 0.3283\n",
      "Epoch 41/50\n",
      "1250/1250 [==============================] - 15s 12ms/step - loss: 0.6138 - val_loss: 0.3273\n",
      "Epoch 42/50\n",
      "1250/1250 [==============================] - 15s 12ms/step - loss: 0.6116 - val_loss: 0.3267\n",
      "Epoch 43/50\n",
      "1250/1250 [==============================] - 15s 12ms/step - loss: 0.6107 - val_loss: 0.3260\n",
      "Epoch 44/50\n",
      "1250/1250 [==============================] - 15s 12ms/step - loss: 0.6089 - val_loss: 0.3271\n",
      "Epoch 45/50\n",
      "1250/1250 [==============================] - 16s 13ms/step - loss: 0.6075 - val_loss: 0.3222\n",
      "Epoch 46/50\n",
      "1250/1250 [==============================] - 16s 13ms/step - loss: 0.6059 - val_loss: 0.3257\n",
      "Epoch 47/50\n",
      "1250/1250 [==============================] - 16s 13ms/step - loss: 0.6051 - val_loss: 0.3283\n",
      "Epoch 48/50\n",
      "1250/1250 [==============================] - 16s 13ms/step - loss: 0.6033 - val_loss: 0.3211\n",
      "Epoch 49/50\n",
      "1250/1250 [==============================] - 16s 13ms/step - loss: 0.6024 - val_loss: 0.3213\n",
      "Epoch 50/50\n",
      "1250/1250 [==============================] - 16s 12ms/step - loss: 0.6006 - val_loss: 0.3205\n"
     ]
    },
    {
     "data": {
      "text/plain": [
       "<keras.callbacks.History at 0x1bf003c0be0>"
      ]
     },
     "execution_count": 76,
     "metadata": {},
     "output_type": "execute_result"
    }
   ],
   "source": [
    "model.compile(optimizer='RMSprop', loss='categorical_crossentropy')\n",
    "\n",
    "model.fit([train_encoder_input_data, train_decoder_input_data],  # training data\n",
    "          train_decoder_target_data,                       # labels (left shift of the target sequences)\n",
    "          batch_size = 32, epochs = 50, validation_data = ([val_encoder_input_data, val_decoder_input_data], val_decoder_target_data))"
   ]
  },
  {
   "cell_type": "markdown",
   "metadata": {},
   "source": [
    "### 5.3 Evaluate the BLEU score using the test set. (15 points)\n",
    "\n",
    "1. Use trained model above to calculate the BLEU score with testing dataset."
   ]
  },
  {
   "cell_type": "code",
   "execution_count": 77,
   "metadata": {},
   "outputs": [],
   "source": [
    "from nltk.translate.bleu_score import sentence_bleu\n",
    "score = 0\n",
    "count = 0 \n",
    "\n",
    "for i in range(len(test_input_texts)):\n",
    "    try:\n",
    "        # Retrieve sentence from encoder\n",
    "        input_text = test_encoder_input_data[i: i + 1]\n",
    "        # Decode input text\n",
    "        decoded_sentence = decode_sequence(input_text)\n",
    "        \n",
    "        # Retrieve reference and candidate \n",
    "        reference = [test_target_texts[i].split(' ')]\n",
    "        candidate = decoded_sentence.split(' ')\n",
    "        # Retrieve score then add\n",
    "        score += sentence_bleu(reference, candidate)\n",
    "    except:\n",
    "        count = count + 1"
   ]
  },
  {
   "cell_type": "code",
   "execution_count": 78,
   "metadata": {},
   "outputs": [
    {
     "name": "stdout",
     "output_type": "stream",
     "text": [
      "Average BLEU Score: 5.91436745129584e-158\n"
     ]
    }
   ],
   "source": [
    "print(\"Average BLEU Score: \" + str((score/(len(test_input_texts)-count))))"
   ]
  }
 ],
 "metadata": {
  "kernelspec": {
   "display_name": "Python 3 (ipykernel)",
   "language": "python",
   "name": "python3"
  },
  "language_info": {
   "codemirror_mode": {
    "name": "ipython",
    "version": 3
   },
   "file_extension": ".py",
   "mimetype": "text/x-python",
   "name": "python",
   "nbconvert_exporter": "python",
   "pygments_lexer": "ipython3",
   "version": "3.9.7"
  }
 },
 "nbformat": 4,
 "nbformat_minor": 2
}
