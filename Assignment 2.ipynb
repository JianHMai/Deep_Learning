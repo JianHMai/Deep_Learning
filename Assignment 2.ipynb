{
 "cells": [
  {
   "cell_type": "markdown",
   "metadata": {},
   "source": [
    "# Assignment 2: Build a CNN for image recognition.\n",
    "\n",
    "## Due Date:  March 29, 11:59PM\n",
    "\n",
    "### Name: [Jian Hui Mai]\n"
   ]
  },
  {
   "cell_type": "markdown",
   "metadata": {},
   "source": [
    "## Introduction:\n",
    "\n",
    "1. In this assignment, you will build Convolutional Neural Network to classify CIFAR-10 Images.\n",
    "2. You can directly load dataset from many deep learning packages.\n",
    "3. You can use any deep learning packages such as pytorch, keras or tensorflow for this assignment."
   ]
  },
  {
   "cell_type": "markdown",
   "metadata": {},
   "source": [
    "## Requirements:\n",
    "\n",
    "1. You need to load cifar 10 data and split the entire training dataset into training and validation.\n",
    "2. You will implement a CNN model to classify cifar 10 images with provided structure.\n",
    "3. You need to plot the training and validation accuracy or loss obtained from above step.\n",
    "4. Then you can use tuned parameters to train using the entire training dataset.\n",
    "5. You should report the testing accuracy using the model with complete data.\n",
    "6. You may try to change the structure (e.g, add BN layer or dropout layer,...) and analyze your findings.\n",
    "\n",
    "## Google Colab\n",
    "\n",
    "- If you do not have GPU, the training of a CNN can be slow. Google Colab is a good option."
   ]
  },
  {
   "cell_type": "markdown",
   "metadata": {},
   "source": [
    "## Batch Normalization (BN)"
   ]
  },
  {
   "cell_type": "markdown",
   "metadata": {},
   "source": [
    "### Background:"
   ]
  },
  {
   "cell_type": "markdown",
   "metadata": {},
   "source": [
    "- Batch Normalization is a technique to speed up training and help make the model more stable.\n",
    "- In simple words, batch normalization is just another network layer that gets inserted between a hidden layer and the next hidden layer. Its job is to take the outputs from the first hidden layer and normalize them before passing them on as the input of the next hidden layer.\n",
    "\n",
    "- For more detailed information, you may refer to the original paper: https://arxiv.org/pdf/1502.03167.pdf."
   ]
  },
  {
   "cell_type": "markdown",
   "metadata": {},
   "source": [
    "### BN Algorithm:"
   ]
  },
  {
   "cell_type": "markdown",
   "metadata": {},
   "source": [
    "- Input: Values of $x$ over a mini-batch: $\\mathbf{B}$ = $\\{x_1,..., x_m\\};$\n",
    "- Output: $\\{y_i = BN_{\\gamma,\\beta}(x_i)\\}$, $\\gamma, \\beta$ are learnable parameters\n",
    "\n",
    "Normalization of the Input:\n",
    "$$\\mu_{\\mathbf{B}} = \\frac{1}{m}\\sum_{i=1}^m x_i$$\n",
    "$$\\sigma_{\\mathbf{B}}^2 = \\frac{1}{m}\\sum_{i=1}^m (x_i - \\mu_{\\mathbf{B}})^2$$\n",
    "$$\\hat{x_i} = \\frac{x_i - \\mu_{\\mathbf{B}}}{\\sqrt{\\sigma_{\\mathbf{B}}}^2 + \\epsilon}$$\n",
    "Re-scaling and Offsetting:\n",
    "$$y_i = \\gamma \\hat{x_i} + \\beta = BN_{\\gamma,\\beta}(x_i)$$\n"
   ]
  },
  {
   "cell_type": "markdown",
   "metadata": {},
   "source": [
    "### Advantages of BN:\n",
    "1. Improves gradient flow through the network.\n",
    "2. Allows use of saturating nonlinearities and higher learning rates.\n",
    "3. Makes weights easier to initialize.\n",
    "4. Act as a form of regularization and may reduce the need for dropout."
   ]
  },
  {
   "cell_type": "markdown",
   "metadata": {},
   "source": [
    "### Implementation:"
   ]
  },
  {
   "cell_type": "markdown",
   "metadata": {},
   "source": [
    "- The batch normalization layer has already been implemented in many packages. You may simply call the function to build the layer. For example: torch.nn.BatchNorm2d() using pytroch package, keras.layers.BatchNormalization() using keras package.\n",
    "- The location of BN layer: Please make sure ```BatchNormalization``` is between a ```Conv```/```Dense``` layer and an ```activation``` layer."
   ]
  },
  {
   "cell_type": "markdown",
   "metadata": {},
   "source": [
    "## 1. Data preparation"
   ]
  },
  {
   "cell_type": "markdown",
   "metadata": {},
   "source": [
    "### 1.1. Load data\n"
   ]
  },
  {
   "cell_type": "code",
   "execution_count": 1,
   "metadata": {},
   "outputs": [
    {
     "name": "stdout",
     "output_type": "stream",
     "text": [
      "shape of x_train: (50000, 32, 32, 3)\n",
      "shape of y_train: (50000, 1)\n",
      "shape of x_test: (10000, 32, 32, 3)\n",
      "shape of y_test: (10000, 1)\n",
      "number of classes: 10\n"
     ]
    }
   ],
   "source": [
    "# Load Cifar-10 Data\n",
    "# This is just an example, you may load dataset from other packages.\n",
    "import tensorflow.keras as tk\n",
    "import keras\n",
    "import numpy as np\n",
    "\n",
    "### If you can not load keras dataset, un-comment these two lines.\n",
    "#import ssl\n",
    "#ssl._create_default_https_context = ssl._create_unverified_context\n",
    "cifar10 = tk.datasets.cifar10\n",
    "(x_train, y_train), (x_test, y_test) = cifar10.load_data()\n",
    "#(x_train, y_train), (x_test, y_test) = keras.datasets.cifar10.load_data()\n",
    "\n",
    "print('shape of x_train: ' + str(x_train.shape))\n",
    "print('shape of y_train: ' + str(y_train.shape))\n",
    "print('shape of x_test: ' + str(x_test.shape))\n",
    "print('shape of y_test: ' + str(y_test.shape))\n",
    "print('number of classes: ' + str(np.max(y_train) - np.min(y_train) + 1))"
   ]
  },
  {
   "cell_type": "markdown",
   "metadata": {},
   "source": [
    "### 1.2. One-hot encode the labels (5 points)\n",
    "\n",
    "In the input, a label is a scalar in $\\{0, 1, \\cdots , 9\\}$. One-hot encode transform such a scalar to a $10$-dim vector. E.g., a scalar ```y_train[j]=3``` is transformed to the vector ```y_train_vec[j]=[0, 0, 0, 1, 0, 0, 0, 0, 0, 0]```.\n",
    "\n",
    "1. Implement a function ```to_one_hot``` that transforms an $n\\times 1$ array to a $n\\times 10$ matrix.\n",
    "\n",
    "2. Apply the function to ```y_train``` and ```y_test```."
   ]
  },
  {
   "cell_type": "code",
   "execution_count": 2,
   "metadata": {},
   "outputs": [
    {
     "name": "stdout",
     "output_type": "stream",
     "text": [
      "Shape of y_train_vec: (50000, 10)\n",
      "Shape of y_test_vec: (10000, 10)\n",
      "[6]\n",
      "[0. 0. 0. 0. 0. 0. 1. 0. 0. 0.]\n"
     ]
    }
   ],
   "source": [
    "def to_one_hot(y, num_class=10):\n",
    "    return np.eye(num_class)[y.reshape(-1)]\n",
    "\n",
    "y_train_vec = to_one_hot(y_train)\n",
    "y_test_vec = to_one_hot(y_test)\n",
    "\n",
    "print('Shape of y_train_vec: ' + str(y_train_vec.shape))\n",
    "print('Shape of y_test_vec: ' + str(y_test_vec.shape))\n",
    "\n",
    "print(y_train[0])\n",
    "print(y_train_vec[0])"
   ]
  },
  {
   "cell_type": "markdown",
   "metadata": {},
   "source": [
    "#### Remark: the outputs should be\n",
    "* Shape of y_train_vec: (50000, 10)\n",
    "* Shape of y_test_vec: (10000, 10)\n",
    "* [6]\n",
    "* [0. 0. 0. 0. 0. 0. 1. 0. 0. 0.]"
   ]
  },
  {
   "cell_type": "markdown",
   "metadata": {},
   "source": [
    "### 1.3. Randomly partition the training set to training and validation sets (5 points)\n",
    "\n",
    "Randomly partition the 50K training samples to 2 sets: \n",
    "* a training set containing 40K samples: x_tr, y_tr\n",
    "* a validation set containing 10K samples: x_val, y_val\n"
   ]
  },
  {
   "cell_type": "code",
   "execution_count": 3,
   "metadata": {},
   "outputs": [
    {
     "name": "stdout",
     "output_type": "stream",
     "text": [
      "Shape of x_tr: (40000, 32, 32, 3)\n",
      "Shape of y_tr: (40000, 10)\n",
      "Shape of x_val: (10000, 32, 32, 3)\n",
      "Shape of y_val: (10000, 10)\n"
     ]
    }
   ],
   "source": [
    "# Randomize 50,000 numbers and place into array\n",
    "random = np.random.permutation(50000)\n",
    "\n",
    "# Retrieve rows 0 to 39999 indicies to create training set\n",
    "x_tr = x_train[random[0:40000], :, :, :]\n",
    "y_tr = y_train_vec[random[0:40000], :]\n",
    "\n",
    "# Retrieve rows 40000 to 49999 indicies to create training set\n",
    "x_val = x_train[random[40000:50000], :, :, :]\n",
    "y_val = y_train_vec[random[40000:50000], :]\n",
    "\n",
    "print('Shape of x_tr: ' + str(x_tr.shape))\n",
    "print('Shape of y_tr: ' + str(y_tr.shape))\n",
    "print('Shape of x_val: ' + str(x_val.shape))\n",
    "print('Shape of y_val: ' + str(y_val.shape))"
   ]
  },
  {
   "cell_type": "markdown",
   "metadata": {},
   "source": [
    "## 2. Build a CNN and tune its hyper-parameters (50 points)\n",
    "\n",
    "- Build a convolutional neural network model using the below structure:\n",
    "\n",
    "- It should have a structure of: Conv - ReLU - Max Pool - ConV - ReLU - Max Pool - Dense - ReLU - Dense - Softmax\n",
    "\n",
    "- In the graph 3@32x32 means the dimension of input image, 32@30x30 means it has 32 filters and the dimension now becomes 30x30 after the convolution.\n",
    "- All convolutional layers (Conv) should have stride = 1 and no padding.\n",
    "- Max Pooling has a pool size of 2 by 2.\n",
    "\n",
    "\n"
   ]
  },
  {
   "cell_type": "markdown",
   "metadata": {},
   "source": [
    "<img src=\"network.PNG\"/>"
   ]
  },
  {
   "cell_type": "markdown",
   "metadata": {},
   "source": [
    "- You may use the validation data to tune the hyper-parameters (e.g., learning rate, and optimization algorithm)\n",
    "- Do NOT use test data for hyper-parameter tuning!!!\n",
    "- Try to achieve a validation accuracy as high as possible."
   ]
  },
  {
   "cell_type": "code",
   "execution_count": 4,
   "metadata": {},
   "outputs": [
    {
     "name": "stdout",
     "output_type": "stream",
     "text": [
      "Model: \"sequential\"\n",
      "_________________________________________________________________\n",
      " Layer (type)                Output Shape              Param #   \n",
      "=================================================================\n",
      " conv2d (Conv2D)             (None, 30, 30, 32)        896       \n",
      "                                                                 \n",
      " activation (Activation)     (None, 30, 30, 32)        0         \n",
      "                                                                 \n",
      " max_pooling2d (MaxPooling2D  (None, 15, 15, 32)       0         \n",
      " )                                                               \n",
      "                                                                 \n",
      " conv2d_1 (Conv2D)           (None, 12, 12, 64)        32832     \n",
      "                                                                 \n",
      " activation_1 (Activation)   (None, 12, 12, 64)        0         \n",
      "                                                                 \n",
      " max_pooling2d_1 (MaxPooling  (None, 6, 6, 64)         0         \n",
      " 2D)                                                             \n",
      "                                                                 \n",
      " flatten (Flatten)           (None, 2304)              0         \n",
      "                                                                 \n",
      " dense (Dense)               (None, 256)               590080    \n",
      "                                                                 \n",
      " activation_2 (Activation)   (None, 256)               0         \n",
      "                                                                 \n",
      " dense_1 (Dense)             (None, 10)                2570      \n",
      "                                                                 \n",
      " activation_3 (Activation)   (None, 10)                0         \n",
      "                                                                 \n",
      "=================================================================\n",
      "Total params: 626,378\n",
      "Trainable params: 626,378\n",
      "Non-trainable params: 0\n",
      "_________________________________________________________________\n"
     ]
    }
   ],
   "source": [
    "from keras import layers, activations, models\n",
    "\n",
    "# Build the model\n",
    "model = models.Sequential()\n",
    "# Conv of 32@3x3 to generate 32@30x30\n",
    "model.add(layers.Conv2D(32, (3,3), input_shape=(32,32,3)))\n",
    "# ReLu Activation for Conv\n",
    "model.add(layers.Activation(activations.relu))\n",
    "# Max Pooling of 2x2 to generate 32@15x15\n",
    "model.add(layers.MaxPooling2D(2,2))\n",
    "# Conv of 64@4x4 to generate 64@12x12\n",
    "model.add(layers.Conv2D(64, (4,4)))\n",
    "# ReLu Activation for Conv\n",
    "model.add(layers.Activation(activations.relu))\n",
    "# Max pooling of 2x2 to generate 64@6x6\n",
    "model.add(layers.MaxPooling2D(2,2))\n",
    "model.add(layers.Flatten())\n",
    "# Dense layer of 1x256\n",
    "model.add(layers.Dense(256))\n",
    "# ReLU Activation for dense layer\n",
    "model.add(layers.Activation(activations.relu))\n",
    "# Dense layer of 1x10\n",
    "model.add(layers.Dense(10))\n",
    "# Softmax activation function for dense layer\n",
    "model.add(layers.Activation(activations.softmax))\n",
    "model.summary()"
   ]
  },
  {
   "cell_type": "code",
   "execution_count": 5,
   "metadata": {},
   "outputs": [],
   "source": [
    "# Define model optimizer and loss function\n",
    "from tensorflow import keras\n",
    "from keras import optimizers\n",
    "# Compile model with 0.001 learning rate, loss of Categorical Crossentropy\n",
    "model.compile(keras.optimizers.RMSprop(learning_rate=0.001), loss = 'CategoricalCrossentropy', \n",
    "              metrics=['accuracy'])"
   ]
  },
  {
   "cell_type": "code",
   "execution_count": 6,
   "metadata": {
    "scrolled": false
   },
   "outputs": [
    {
     "name": "stdout",
     "output_type": "stream",
     "text": [
      "Epoch 1/20\n",
      "313/313 [==============================] - 11s 33ms/step - loss: 4.5680 - accuracy: 0.2165 - val_loss: 1.8606 - val_accuracy: 0.3344\n",
      "Epoch 2/20\n",
      "313/313 [==============================] - 11s 34ms/step - loss: 1.8270 - accuracy: 0.3744 - val_loss: 1.9429 - val_accuracy: 0.3587\n",
      "Epoch 3/20\n",
      "313/313 [==============================] - 11s 34ms/step - loss: 1.4946 - accuracy: 0.4872 - val_loss: 1.3338 - val_accuracy: 0.5353\n",
      "Epoch 4/20\n",
      "313/313 [==============================] - 11s 34ms/step - loss: 1.2730 - accuracy: 0.5642 - val_loss: 1.4524 - val_accuracy: 0.5014\n",
      "Epoch 5/20\n",
      "313/313 [==============================] - 10s 33ms/step - loss: 1.1034 - accuracy: 0.6259 - val_loss: 1.3889 - val_accuracy: 0.5514\n",
      "Epoch 6/20\n",
      "313/313 [==============================] - 11s 35ms/step - loss: 0.9643 - accuracy: 0.6737 - val_loss: 1.1930 - val_accuracy: 0.6118\n",
      "Epoch 7/20\n",
      "313/313 [==============================] - 11s 35ms/step - loss: 0.8284 - accuracy: 0.7186 - val_loss: 1.3365 - val_accuracy: 0.5854\n",
      "Epoch 8/20\n",
      "313/313 [==============================] - 11s 35ms/step - loss: 0.7178 - accuracy: 0.7574 - val_loss: 1.4330 - val_accuracy: 0.6239\n",
      "Epoch 9/20\n",
      "313/313 [==============================] - 11s 35ms/step - loss: 0.6143 - accuracy: 0.7958 - val_loss: 1.5122 - val_accuracy: 0.6024\n",
      "Epoch 10/20\n",
      "313/313 [==============================] - 11s 34ms/step - loss: 0.5298 - accuracy: 0.8262 - val_loss: 1.9903 - val_accuracy: 0.5546\n",
      "Epoch 11/20\n",
      "313/313 [==============================] - 11s 35ms/step - loss: 0.4538 - accuracy: 0.8509 - val_loss: 1.6908 - val_accuracy: 0.6080\n",
      "Epoch 12/20\n",
      "313/313 [==============================] - 11s 34ms/step - loss: 0.3883 - accuracy: 0.8727 - val_loss: 1.6427 - val_accuracy: 0.6142\n",
      "Epoch 13/20\n",
      "313/313 [==============================] - 11s 34ms/step - loss: 0.3477 - accuracy: 0.8884 - val_loss: 2.7793 - val_accuracy: 0.5963\n",
      "Epoch 14/20\n",
      "313/313 [==============================] - 11s 34ms/step - loss: 0.3135 - accuracy: 0.9023 - val_loss: 3.0914 - val_accuracy: 0.6197\n",
      "Epoch 15/20\n",
      "313/313 [==============================] - 11s 34ms/step - loss: 0.2675 - accuracy: 0.9158 - val_loss: 2.8174 - val_accuracy: 0.6030\n",
      "Epoch 16/20\n",
      "313/313 [==============================] - 10s 33ms/step - loss: 0.2481 - accuracy: 0.9245 - val_loss: 2.6842 - val_accuracy: 0.6302\n",
      "Epoch 17/20\n",
      "313/313 [==============================] - 10s 33ms/step - loss: 0.2404 - accuracy: 0.9294 - val_loss: 3.2468 - val_accuracy: 0.6224\n",
      "Epoch 18/20\n",
      "313/313 [==============================] - 11s 34ms/step - loss: 0.2284 - accuracy: 0.9352 - val_loss: 3.6033 - val_accuracy: 0.5970\n",
      "Epoch 19/20\n",
      "313/313 [==============================] - 10s 33ms/step - loss: 0.2238 - accuracy: 0.9375 - val_loss: 3.2531 - val_accuracy: 0.6290\n",
      "Epoch 20/20\n",
      "313/313 [==============================] - 10s 33ms/step - loss: 0.2065 - accuracy: 0.9413 - val_loss: 3.1656 - val_accuracy: 0.6186\n"
     ]
    }
   ],
   "source": [
    "# Train the model and store model parameters/loss values\n",
    "history = model.fit(x_tr, y_tr, batch_size = 128, epochs = 20, validation_data=(x_val, y_val))"
   ]
  },
  {
   "cell_type": "markdown",
   "metadata": {},
   "source": [
    "## 3. Plot the training and validation loss curve versus epochs. (5 points)"
   ]
  },
  {
   "cell_type": "code",
   "execution_count": 7,
   "metadata": {},
   "outputs": [
    {
     "data": {
      "image/png": "[encoded data removed]",
      "text/plain": [
       "<Figure size 432x288 with 1 Axes>"
      ]
     },
     "metadata": {
      "needs_background": "light"
     },
     "output_type": "display_data"
    }
   ],
   "source": [
    "import matplotlib.pyplot as plt\n",
    "%matplotlib inline\n",
    "\n",
    "# Retrieve train accuracy\n",
    "train_accuracy = history.history['accuracy']\n",
    "# Used to retrieve number of epochs\n",
    "epochs = range(len(train_accuracy))\n",
    "# Retrieve validation accuracy\n",
    "validation_accuracy = history.history['val_accuracy']\n",
    "# Plot accuracy\n",
    "plt.plot(epochs, train_accuracy, 'b', label='Training Accuracy')\n",
    "plt.plot(epochs, validation_accuracy, 'r', label = 'Validation Accuracy')\n",
    "plt.xlabel('Epochs')\n",
    "plt.ylabel('Accuracy')\n",
    "plt.legend()\n",
    "plt.show()"
   ]
  },
  {
   "cell_type": "markdown",
   "metadata": {},
   "source": [
    "## 4. Train (again) and evaluate the model (5 points)\n",
    "\n",
    "- To this end, you have found the \"best\" hyper-parameters. \n",
    "- Now, fix the hyper-parameters and train the network on the entire training set (all the 50K training samples)\n",
    "- Evaluate your model on the test set."
   ]
  },
  {
   "cell_type": "markdown",
   "metadata": {},
   "source": [
    "### Train the model on the entire training set\n",
    "\n",
    "Why? Previously, you used 40K samples for training; you wasted 10K samples for the sake of hyper-parameter tuning. Now you already know the hyper-parameters, so why not using all the 50K samples for training?"
   ]
  },
  {
   "cell_type": "code",
   "execution_count": 8,
   "metadata": {},
   "outputs": [],
   "source": [
    "# Compile model with 0.001 learning rate and Categorical Crossentropy\n",
    "model.compile(keras.optimizers.RMSprop(learning_rate=0.001), loss = 'CategoricalCrossentropy', \n",
    "              metrics=['accuracy'])"
   ]
  },
  {
   "cell_type": "code",
   "execution_count": 9,
   "metadata": {},
   "outputs": [
    {
     "name": "stdout",
     "output_type": "stream",
     "text": [
      "Epoch 1/20\n",
      "391/391 [==============================] - 12s 31ms/step - loss: 0.7620 - accuracy: 0.8273\n",
      "Epoch 2/20\n",
      "391/391 [==============================] - 12s 31ms/step - loss: 0.5288 - accuracy: 0.8590\n",
      "Epoch 3/20\n",
      "391/391 [==============================] - 12s 32ms/step - loss: 0.4152 - accuracy: 0.8841\n",
      "Epoch 4/20\n",
      "391/391 [==============================] - 13s 32ms/step - loss: 0.3691 - accuracy: 0.8965\n",
      "Epoch 5/20\n",
      "391/391 [==============================] - 12s 32ms/step - loss: 0.3361 - accuracy: 0.9060\n",
      "Epoch 6/20\n",
      "391/391 [==============================] - 12s 32ms/step - loss: 0.3092 - accuracy: 0.9145\n",
      "Epoch 7/20\n",
      "391/391 [==============================] - 12s 32ms/step - loss: 0.2983 - accuracy: 0.9183\n",
      "Epoch 8/20\n",
      "391/391 [==============================] - 12s 31ms/step - loss: 0.2840 - accuracy: 0.9244\n",
      "Epoch 9/20\n",
      "391/391 [==============================] - 12s 32ms/step - loss: 0.2673 - accuracy: 0.9287\n",
      "Epoch 10/20\n",
      "391/391 [==============================] - 12s 32ms/step - loss: 0.2610 - accuracy: 0.9332\n",
      "Epoch 11/20\n",
      "391/391 [==============================] - 12s 31ms/step - loss: 0.2467 - accuracy: 0.9372\n",
      "Epoch 12/20\n",
      "391/391 [==============================] - 12s 32ms/step - loss: 0.2559 - accuracy: 0.9381\n",
      "Epoch 13/20\n",
      "391/391 [==============================] - 13s 32ms/step - loss: 0.2350 - accuracy: 0.9417\n",
      "Epoch 14/20\n",
      "391/391 [==============================] - 12s 31ms/step - loss: 0.2403 - accuracy: 0.9432\n",
      "Epoch 15/20\n",
      "391/391 [==============================] - 12s 32ms/step - loss: 0.2267 - accuracy: 0.9462\n",
      "Epoch 16/20\n",
      "391/391 [==============================] - 12s 32ms/step - loss: 0.2211 - accuracy: 0.9487\n",
      "Epoch 17/20\n",
      "391/391 [==============================] - 12s 32ms/step - loss: 0.2142 - accuracy: 0.9499\n",
      "Epoch 18/20\n",
      "391/391 [==============================] - 13s 32ms/step - loss: 0.2271 - accuracy: 0.9513\n",
      "Epoch 19/20\n",
      "391/391 [==============================] - 13s 33ms/step - loss: 0.2161 - accuracy: 0.9537\n",
      "Epoch 20/20\n",
      "391/391 [==============================] - 12s 31ms/step - loss: 0.2259 - accuracy: 0.9518\n"
     ]
    }
   ],
   "source": [
    "# Train model with the whole training set\n",
    "history1_1 = model.fit(x_train, y_train_vec, batch_size = 128, epochs = 20)"
   ]
  },
  {
   "cell_type": "markdown",
   "metadata": {},
   "source": [
    "## 5. Evaluate the model on the test set (5 points)\n",
    "\n",
    "Do NOT use the test set until now. Make sure that your model parameters and hyper-parameters are independent of the test set."
   ]
  },
  {
   "cell_type": "code",
   "execution_count": 10,
   "metadata": {},
   "outputs": [
    {
     "data": {
      "image/png": "[encoded data removed]",
      "text/plain": [
       "<Figure size 432x288 with 1 Axes>"
      ]
     },
     "metadata": {
      "needs_background": "light"
     },
     "output_type": "display_data"
    },
    {
     "name": "stdout",
     "output_type": "stream",
     "text": [
      "313/313 [==============================] - 1s 2ms/step - loss: 5.5940 - accuracy: 0.6244\n",
      "Loss = 5.59\n",
      "Accuracy = 0.62\n"
     ]
    }
   ],
   "source": [
    "loss = history1_1.history['loss']\n",
    "# Retrieve number of epochs\n",
    "epochs = range(len(loss))\n",
    "# Plot the accuracy\n",
    "plt.plot(epochs, loss, 'g', label='Loss')\n",
    "plt.xlabel('Epochs')\n",
    "plt.ylabel('Loss')\n",
    "plt.legend()\n",
    "plt.show()\n",
    "\n",
    "# Evaluate your model performance (testing accuracy) on testing data.\n",
    "testing_accuracy = model.evaluate(x_test, y_test_vec)\n",
    "# Print the loss and accuracy\n",
    "print('Loss = ' + str(round(testing_accuracy[0],2)))\n",
    "print('Accuracy = ' + str(round(testing_accuracy[1],2)))"
   ]
  },
  {
   "cell_type": "markdown",
   "metadata": {},
   "source": [
    "## 6. Building model with new structure (25 points)\n",
    "- In this section, you can build your model with adding new layers (e.g, BN layer or dropout layer, ...).\n",
    "- If you want to regularize a ```Conv/Dense layer```, you should place a ```Dropout layer``` before the ```Conv/Dense layer```.\n",
    "- You can try to compare their loss curve and testing accuracy and analyze your findings.\n",
    "- You need to try at least two different model structures."
   ]
  },
  {
   "cell_type": "code",
   "execution_count": 11,
   "metadata": {
    "scrolled": false
   },
   "outputs": [
    {
     "name": "stdout",
     "output_type": "stream",
     "text": [
      "Model: \"sequential_1\"\n",
      "_________________________________________________________________\n",
      " Layer (type)                Output Shape              Param #   \n",
      "=================================================================\n",
      " conv2d_2 (Conv2D)           (None, 30, 30, 32)        896       \n",
      "                                                                 \n",
      " activation_4 (Activation)   (None, 30, 30, 32)        0         \n",
      "                                                                 \n",
      " max_pooling2d_2 (MaxPooling  (None, 15, 15, 32)       0         \n",
      " 2D)                                                             \n",
      "                                                                 \n",
      " conv2d_3 (Conv2D)           (None, 12, 12, 64)        32832     \n",
      "                                                                 \n",
      " batch_normalization (BatchN  (None, 12, 12, 64)       256       \n",
      " ormalization)                                                   \n",
      "                                                                 \n",
      " activation_5 (Activation)   (None, 12, 12, 64)        0         \n",
      "                                                                 \n",
      " max_pooling2d_3 (MaxPooling  (None, 6, 6, 64)         0         \n",
      " 2D)                                                             \n",
      "                                                                 \n",
      " flatten_1 (Flatten)         (None, 2304)              0         \n",
      "                                                                 \n",
      " dense_2 (Dense)             (None, 256)               590080    \n",
      "                                                                 \n",
      " batch_normalization_1 (Batc  (None, 256)              1024      \n",
      " hNormalization)                                                 \n",
      "                                                                 \n",
      " activation_6 (Activation)   (None, 256)               0         \n",
      "                                                                 \n",
      " dense_3 (Dense)             (None, 10)                2570      \n",
      "                                                                 \n",
      " activation_7 (Activation)   (None, 10)                0         \n",
      "                                                                 \n",
      "=================================================================\n",
      "Total params: 627,658\n",
      "Trainable params: 627,018\n",
      "Non-trainable params: 640\n",
      "_________________________________________________________________\n",
      "Epoch 1/20\n",
      "391/391 [==============================] - 14s 35ms/step - loss: 1.2004 - accuracy: 0.5754\n",
      "Epoch 2/20\n",
      "391/391 [==============================] - 14s 35ms/step - loss: 0.8311 - accuracy: 0.7114\n",
      "Epoch 3/20\n",
      "391/391 [==============================] - 13s 34ms/step - loss: 0.6639 - accuracy: 0.7714\n",
      "Epoch 4/20\n",
      "391/391 [==============================] - 13s 34ms/step - loss: 0.5331 - accuracy: 0.8186\n",
      "Epoch 5/20\n",
      "391/391 [==============================] - 14s 35ms/step - loss: 0.4278 - accuracy: 0.8554\n",
      "Epoch 6/20\n",
      "391/391 [==============================] - 14s 35ms/step - loss: 0.3404 - accuracy: 0.8856\n",
      "Epoch 7/20\n",
      "391/391 [==============================] - 14s 35ms/step - loss: 0.2681 - accuracy: 0.9114\n",
      "Epoch 8/20\n",
      "391/391 [==============================] - 14s 35ms/step - loss: 0.2081 - accuracy: 0.9341\n",
      "Epoch 9/20\n",
      "391/391 [==============================] - 14s 36ms/step - loss: 0.1586 - accuracy: 0.9514\n",
      "Epoch 10/20\n",
      "391/391 [==============================] - 14s 35ms/step - loss: 0.1273 - accuracy: 0.9618\n",
      "Epoch 11/20\n",
      "391/391 [==============================] - 14s 35ms/step - loss: 0.1030 - accuracy: 0.9685\n",
      "Epoch 12/20\n",
      "391/391 [==============================] - 14s 35ms/step - loss: 0.0866 - accuracy: 0.9752\n",
      "Epoch 13/20\n",
      "391/391 [==============================] - 14s 35ms/step - loss: 0.0729 - accuracy: 0.9792\n",
      "Epoch 14/20\n",
      "391/391 [==============================] - 14s 35ms/step - loss: 0.0631 - accuracy: 0.9814\n",
      "Epoch 15/20\n",
      "391/391 [==============================] - 14s 36ms/step - loss: 0.0558 - accuracy: 0.9838\n",
      "Epoch 16/20\n",
      "391/391 [==============================] - 14s 35ms/step - loss: 0.0508 - accuracy: 0.9855\n",
      "Epoch 17/20\n",
      "391/391 [==============================] - 14s 35ms/step - loss: 0.0477 - accuracy: 0.9859\n",
      "Epoch 18/20\n",
      "391/391 [==============================] - 14s 36ms/step - loss: 0.0423 - accuracy: 0.9876\n",
      "Epoch 19/20\n",
      "391/391 [==============================] - 14s 35ms/step - loss: 0.0378 - accuracy: 0.9888\n",
      "Epoch 20/20\n",
      "391/391 [==============================] - 14s 36ms/step - loss: 0.0373 - accuracy: 0.9892\n"
     ]
    }
   ],
   "source": [
    "from tensorflow.keras.layers import BatchNormalization\n",
    "\n",
    "model2 = models.Sequential()\n",
    "# Conv of 32@3x3 to generate 32@30x30\n",
    "model2.add(layers.Conv2D(32, (3,3), input_shape=(32,32,3)))\n",
    "# ReLu activation for Conv\n",
    "model2.add(layers.Activation(activations.relu))\n",
    "# Max pooling of 2x2 to generate 32@15x15\n",
    "model2.add(layers.MaxPooling2D(2,2))\n",
    "# Conv of 64@4x4 to generate 64@12x12\n",
    "model2.add(layers.Conv2D(64, (4,4)))\n",
    "# Apply Batch Normalization to Conv Layer\n",
    "model2.add(BatchNormalization())\n",
    "# Apply ReLu activation to Conv\n",
    "model2.add(layers.Activation(activations.relu))\n",
    "# Max Pooling 2x2 to generate 64@6x6\n",
    "model2.add(layers.MaxPooling2D(2,2))\n",
    "# Flatten layer\n",
    "model2.add(layers.Flatten())\n",
    "# Dense layer of 1x256\n",
    "model2.add(layers.Dense(256))\n",
    "# Apply Batch Normalization to Dense Layer\n",
    "model2.add(BatchNormalization())\n",
    "# ReLu activation Function for Dense Layer\n",
    "model2.add(layers.Activation(activations.relu))\n",
    "# Dense layer of 1x10\n",
    "model2.add(layers.Dense(10))\n",
    "# Softmax activation Function for Dense Layer\n",
    "model2.add(layers.Activation(activations.softmax))\n",
    "model2.summary()\n",
    "\n",
    "model2.compile(keras.optimizers.RMSprop(learning_rate=0.001), \n",
    "               loss = 'CategoricalCrossentropy', metrics=['accuracy'])\n",
    "history2 = model2.fit(x_train, y_train_vec, batch_size = 128, epochs = 20)"
   ]
  },
  {
   "cell_type": "code",
   "execution_count": 12,
   "metadata": {},
   "outputs": [
    {
     "data": {
      "image/png": "[encoded data removed]",
      "text/plain": [
       "<Figure size 432x288 with 1 Axes>"
      ]
     },
     "metadata": {
      "needs_background": "light"
     },
     "output_type": "display_data"
    },
    {
     "name": "stdout",
     "output_type": "stream",
     "text": [
      "313/313 [==============================] - 1s 3ms/step - loss: 1.5463 - accuracy: 0.7177\n",
      "Loss = 1.55\n",
      "Accuracy = 0.72\n"
     ]
    }
   ],
   "source": [
    "# Plot the loss curve\n",
    "loss = history2.history['loss']\n",
    "# Retrieve number of epochs\n",
    "epochs = range(len(loss))\n",
    "# Plot the accuracy\n",
    "plt.plot(epochs, loss, 'g', label='Loss')\n",
    "plt.xlabel('Epochs')\n",
    "plt.ylabel('Loss')\n",
    "plt.legend()\n",
    "plt.show()\n",
    "\n",
    "# Retrieve and print testing accuracy\n",
    "testing_accuracy2 = model2.evaluate(x_test, y_test_vec)\n",
    "print('Loss = ' + str(round(testing_accuracy2[0],2)))\n",
    "print('Accuracy = ' + str(round(testing_accuracy2[1],2)))"
   ]
  },
  {
   "cell_type": "markdown",
   "metadata": {},
   "source": [
    "#### Compared to the original model, the model with Batch Normalization has a better test set accuracy and a significantly lower loss.\n",
    "\n",
    "#### Comparing the loss curves, the original model starts at a lower loss value but ends up in a higher loss value than the Batch Normalization model."
   ]
  },
  {
   "cell_type": "code",
   "execution_count": 13,
   "metadata": {},
   "outputs": [
    {
     "name": "stdout",
     "output_type": "stream",
     "text": [
      "Model: \"sequential_2\"\n",
      "_________________________________________________________________\n",
      " Layer (type)                Output Shape              Param #   \n",
      "=================================================================\n",
      " conv2d_4 (Conv2D)           (None, 30, 30, 32)        896       \n",
      "                                                                 \n",
      " activation_8 (Activation)   (None, 30, 30, 32)        0         \n",
      "                                                                 \n",
      " max_pooling2d_4 (MaxPooling  (None, 15, 15, 32)       0         \n",
      " 2D)                                                             \n",
      "                                                                 \n",
      " conv2d_5 (Conv2D)           (None, 12, 12, 64)        32832     \n",
      "                                                                 \n",
      " activation_9 (Activation)   (None, 12, 12, 64)        0         \n",
      "                                                                 \n",
      " max_pooling2d_5 (MaxPooling  (None, 6, 6, 64)         0         \n",
      " 2D)                                                             \n",
      "                                                                 \n",
      " flatten_2 (Flatten)         (None, 2304)              0         \n",
      "                                                                 \n",
      " dropout (Dropout)           (None, 2304)              0         \n",
      "                                                                 \n",
      " dense_4 (Dense)             (None, 256)               590080    \n",
      "                                                                 \n",
      " activation_10 (Activation)  (None, 256)               0         \n",
      "                                                                 \n",
      " dense_5 (Dense)             (None, 10)                2570      \n",
      "                                                                 \n",
      " activation_11 (Activation)  (None, 10)                0         \n",
      "                                                                 \n",
      "=================================================================\n",
      "Total params: 626,378\n",
      "Trainable params: 626,378\n",
      "Non-trainable params: 0\n",
      "_________________________________________________________________\n",
      "Epoch 1/20\n",
      "391/391 [==============================] - 13s 33ms/step - loss: 3.0466 - accuracy: 0.1196\n",
      "Epoch 2/20\n",
      "391/391 [==============================] - 13s 33ms/step - loss: 2.1900 - accuracy: 0.2127\n",
      "Epoch 3/20\n",
      "391/391 [==============================] - 12s 32ms/step - loss: 1.7847 - accuracy: 0.3662\n",
      "Epoch 4/20\n",
      "391/391 [==============================] - 12s 31ms/step - loss: 1.5361 - accuracy: 0.4586\n",
      "Epoch 5/20\n",
      "391/391 [==============================] - 12s 32ms/step - loss: 1.4015 - accuracy: 0.5119\n",
      "Epoch 6/20\n",
      "391/391 [==============================] - 13s 32ms/step - loss: 1.3254 - accuracy: 0.5411\n",
      "Epoch 7/20\n",
      "391/391 [==============================] - 13s 32ms/step - loss: 1.2713 - accuracy: 0.5627\n",
      "Epoch 8/20\n",
      "391/391 [==============================] - 13s 32ms/step - loss: 1.2200 - accuracy: 0.5818\n",
      "Epoch 9/20\n",
      "391/391 [==============================] - 12s 32ms/step - loss: 1.1762 - accuracy: 0.6001\n",
      "Epoch 10/20\n",
      "391/391 [==============================] - 12s 32ms/step - loss: 1.1405 - accuracy: 0.6163\n",
      "Epoch 11/20\n",
      "391/391 [==============================] - 13s 33ms/step - loss: 1.1264 - accuracy: 0.6186\n",
      "Epoch 12/20\n",
      "391/391 [==============================] - 13s 32ms/step - loss: 1.0969 - accuracy: 0.6337\n",
      "Epoch 13/20\n",
      "391/391 [==============================] - 13s 33ms/step - loss: 1.0831 - accuracy: 0.6377\n",
      "Epoch 14/20\n",
      "391/391 [==============================] - 13s 32ms/step - loss: 1.0726 - accuracy: 0.6425\n",
      "Epoch 15/20\n",
      "391/391 [==============================] - 13s 32ms/step - loss: 1.0633 - accuracy: 0.6453\n",
      "Epoch 16/20\n",
      "391/391 [==============================] - 13s 32ms/step - loss: 1.0518 - accuracy: 0.6505\n",
      "Epoch 17/20\n",
      "391/391 [==============================] - 13s 32ms/step - loss: 1.0487 - accuracy: 0.6530\n",
      "Epoch 18/20\n",
      "391/391 [==============================] - 13s 32ms/step - loss: 1.0404 - accuracy: 0.6561\n",
      "Epoch 19/20\n",
      "391/391 [==============================] - 13s 32ms/step - loss: 1.0360 - accuracy: 0.6572\n",
      "Epoch 20/20\n",
      "391/391 [==============================] - 12s 32ms/step - loss: 1.0292 - accuracy: 0.6582\n"
     ]
    }
   ],
   "source": [
    "model3 = models.Sequential()\n",
    "# Conv of 32@3x3 to generate 32@30x30\n",
    "model3.add(layers.Conv2D(32, (3,3), input_shape=(32,32,3)))\n",
    "# ReLu activation function for Conv\n",
    "model3.add(layers.Activation(activations.relu))\n",
    "# 2x2 Max Pooling to generate 32@15x15\n",
    "model3.add(layers.MaxPooling2D(2,2))\n",
    "# Conv of 64@4x4 to generate 64@12x12\n",
    "model3.add(layers.Conv2D(64, (4,4)))\n",
    "# ReLu Activation function for Conv\n",
    "model3.add(layers.Activation(activations.relu))\n",
    "# 2x2 Max Pooling to generate 64@6x6\n",
    "model3.add(layers.MaxPooling2D(2,2))\n",
    "# Flatten layer\n",
    "model3.add(layers.Flatten())\n",
    "# 0.5 Dropout layer\n",
    "model3.add(layers.Dropout(0.5))\n",
    "# 1*256 dense layer\n",
    "model3.add(layers.Dense(256))\n",
    "# ReLu Activation function for dense layer\n",
    "model3.add(layers.Activation(activations.relu))\n",
    "# 1*10 dense layer \n",
    "model3.add(layers.Dense(10))\n",
    "# Softmax Activation function for dense layer\n",
    "model3.add(layers.Activation(activations.softmax))\n",
    "model3.summary()\n",
    "\n",
    "model3.compile(keras.optimizers.RMSprop(learning_rate=0.001), \n",
    "               loss = 'CategoricalCrossentropy', metrics=['accuracy'])\n",
    "history3 = model3.fit(x_train, y_train_vec, batch_size = 128, epochs = 20)"
   ]
  },
  {
   "cell_type": "code",
   "execution_count": 14,
   "metadata": {},
   "outputs": [
    {
     "data": {
      "image/png": "[encoded data removed]",
      "text/plain": [
       "<Figure size 432x288 with 1 Axes>"
      ]
     },
     "metadata": {
      "needs_background": "light"
     },
     "output_type": "display_data"
    },
    {
     "name": "stdout",
     "output_type": "stream",
     "text": [
      "313/313 [==============================] - 1s 3ms/step - loss: 1.0199 - accuracy: 0.6637\n",
      "Loss = 1.02\n",
      "Accuracy = 0.66\n"
     ]
    }
   ],
   "source": [
    "# Plot the loss curve\n",
    "loss = history3.history['loss']\n",
    "# Retrieve number of epochs\n",
    "epochs = range(len(loss))\n",
    "plt.plot(epochs, loss, 'g', label='Loss')\n",
    "plt.xlabel('Epochs')\n",
    "plt.ylabel('Loss')\n",
    "plt.legend()\n",
    "plt.show()\n",
    "\n",
    "# Retrieve and print testing accuracy\n",
    "testing_accuracy3 = model3.evaluate(x_test, y_test_vec)\n",
    "print('Loss = ' + str(round(testing_accuracy3[0],2)))\n",
    "print('Accuracy = ' + str(round(testing_accuracy3[1],2)))"
   ]
  },
  {
   "cell_type": "markdown",
   "metadata": {},
   "source": [
    "#### Compared to the original model, the model with dropout has the higher testing set accuracy and has a signficantly lower loss.\n",
    "\n",
    "\n",
    "#### Comparing the loss curves, the original model starts at a lower loss value and ends up in a lower loss value than the model with dropout."
   ]
  }
 ],
 "metadata": {
  "kernelspec": {
   "display_name": "Python 3 (ipykernel)",
   "language": "python",
   "name": "python3"
  },
  "language_info": {
   "codemirror_mode": {
    "name": "ipython",
    "version": 3
   },
   "file_extension": ".py",
   "mimetype": "text/x-python",
   "name": "python",
   "nbconvert_exporter": "python",
   "pygments_lexer": "ipython3",
   "version": "3.9.7"
  }
 },
 "nbformat": 4,
 "nbformat_minor": 2
}
