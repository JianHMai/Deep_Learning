{
 "cells": [
  {
   "cell_type": "markdown",
   "metadata": {},
   "source": [
    "# HM1: Logistic Regression.\n",
    "\n",
    "### Name: [Jian Hui Mai]\n"
   ]
  },
  {
   "cell_type": "markdown",
   "metadata": {},
   "source": [
    "#### For this assignment, you will build 6 models. You need to train Logistic Regression/Regularized Logistic Regression each with Batch Gradient Descent, Stochastic Gradient Descent and Mini Batch Gradient Descent. Also you should plot their objective values versus epochs and compare their training and testing accuracies. You will need to tune the parameters a little bit to obtain reasonable results.\n",
    "\n",
    "#### You do not have to follow the following procedure. You may implement your own functions and methods, but you need to show your results and plots."
   ]
  },
  {
   "cell_type": "code",
   "execution_count": 1,
   "metadata": {},
   "outputs": [],
   "source": [
    "# Load Packages\n",
    "import pandas as pd\n",
    "from sklearn.model_selection import train_test_split\n",
    "import numpy as np"
   ]
  },
  {
   "cell_type": "markdown",
   "metadata": {},
   "source": [
    "# 1. Data processing\n",
    "\n",
    "- Download the Breast Cancer dataset from canvas or from https://archive.ics.uci.edu/ml/datasets/breast+cancer+wisconsin+(diagnostic)\n",
    "- Load the data.\n",
    "- Preprocess the data."
   ]
  },
  {
   "cell_type": "markdown",
   "metadata": {},
   "source": [
    "## 1.1. Load the data"
   ]
  },
  {
   "cell_type": "code",
   "execution_count": 2,
   "metadata": {},
   "outputs": [],
   "source": [
    "# Store data into data frame\n",
    "df = pd.read_csv ('data.csv')"
   ]
  },
  {
   "cell_type": "markdown",
   "metadata": {},
   "source": [
    "## 1.2 Examine and clean data"
   ]
  },
  {
   "cell_type": "code",
   "execution_count": 3,
   "metadata": {},
   "outputs": [
    {
     "name": "stderr",
     "output_type": "stream",
     "text": [
      "C:\\Users\\Jian\\AppData\\Local\\Temp/ipykernel_21480/1508538230.py:6: FutureWarning: In a future version of pandas all arguments of DataFrame.drop except for the argument 'labels' will be keyword-only\n",
      "  df = df.drop('id', 1)\n"
     ]
    }
   ],
   "source": [
    "# Some columns may not be useful for the model (For example, the first column contains ID number which may be irrelavant). \n",
    "# You need to get rid of the ID number feature.\n",
    "# Also you should transform target labels in the second column from 'B' and 'M' to 1 and -1.\n",
    "\n",
    "# Drop the first column called ID\n",
    "df = df.drop('id', 1)\n",
    "# Remove the last unnamed column\n",
    "df = df.dropna(how='all', axis='columns')\n",
    "\n",
    "# Change diagnosis values to 1 and -1 for B and M respectfully\n",
    "df.loc[df['diagnosis'] == 'B', 'diagnosis'] = 1\n",
    "df.loc[df['diagnosis'] == 'M', 'diagnosis'] = -1"
   ]
  },
  {
   "cell_type": "markdown",
   "metadata": {},
   "source": [
    "## 1.3. Partition to training and testing sets"
   ]
  },
  {
   "cell_type": "code",
   "execution_count": 4,
   "metadata": {},
   "outputs": [
    {
     "name": "stdout",
     "output_type": "stream",
     "text": [
      "Shape of x_train: (455, 30)\n",
      "Shape of x_test: (114, 30)\n",
      "Shape of y_train: (455, 1)\n",
      "Shape of y_test: (114, 1)\n"
     ]
    }
   ],
   "source": [
    "# You can partition using 80% training data and 20% testing data. It is a commonly used ratio in machinel learning.\n",
    "\n",
    "# Split training and testing set\n",
    "train, test = train_test_split(df, test_size=0.2)\n",
    "# Y train contains only diagnosis column\n",
    "y_train = train[['diagnosis']]\n",
    "# X train contains every column minus diagnosis\n",
    "x_train = train.drop(['diagnosis'], axis=1)\n",
    "\n",
    "# Y test contains only diagnosis\n",
    "y_test = test[['diagnosis']]\n",
    "# X tests contains every column minus diagnosis \n",
    "x_test = test.drop(['diagnosis'], axis=1)\n",
    "\n",
    "print('Shape of x_train: ' + str(x_train.shape))\n",
    "print('Shape of x_test: ' + str(x_test.shape))\n",
    "print('Shape of y_train: ' + str(y_train.shape))\n",
    "print('Shape of y_test: ' + str(y_test.shape))"
   ]
  },
  {
   "cell_type": "markdown",
   "metadata": {},
   "source": [
    "## 1.4. Feature scaling"
   ]
  },
  {
   "cell_type": "markdown",
   "metadata": {},
   "source": [
    "Use the standardization to transform both training and test features"
   ]
  },
  {
   "cell_type": "code",
   "execution_count": 5,
   "metadata": {},
   "outputs": [
    {
     "name": "stdout",
     "output_type": "stream",
     "text": [
      "test mean = \n",
      "radius_mean               -0.159491\n",
      "texture_mean              -0.032848\n",
      "perimeter_mean            -0.167532\n",
      "area_mean                 -0.130670\n",
      "smoothness_mean           -0.003247\n",
      "compactness_mean          -0.181639\n",
      "concavity_mean            -0.183276\n",
      "concave points_mean       -0.165604\n",
      "symmetry_mean             -0.113534\n",
      "fractal_dimension_mean    -0.073266\n",
      "radius_se                 -0.027190\n",
      "texture_se                 0.147856\n",
      "perimeter_se              -0.065763\n",
      "area_se                   -0.060378\n",
      "smoothness_se              0.133298\n",
      "compactness_se            -0.197153\n",
      "concavity_se              -0.121722\n",
      "concave points_se         -0.130580\n",
      "symmetry_se               -0.160218\n",
      "fractal_dimension_se      -0.084156\n",
      "radius_worst              -0.114597\n",
      "texture_worst             -0.054910\n",
      "perimeter_worst           -0.139220\n",
      "area_worst                -0.078198\n",
      "smoothness_worst          -0.012998\n",
      "compactness_worst         -0.218936\n",
      "concavity_worst           -0.167726\n",
      "concave points_worst      -0.202190\n",
      "symmetry_worst            -0.240268\n",
      "fractal_dimension_worst   -0.056988\n",
      "dtype: float64\n",
      "\n",
      "test std = \n",
      "radius_mean                1.011311\n",
      "texture_mean               0.915801\n",
      "perimeter_mean             1.003688\n",
      "area_mean                  0.941583\n",
      "smoothness_mean            0.972168\n",
      "compactness_mean           0.807296\n",
      "concavity_mean             0.831409\n",
      "concave points_mean        0.874983\n",
      "symmetry_mean              0.912598\n",
      "fractal_dimension_mean     0.883678\n",
      "radius_se                  0.722844\n",
      "texture_se                 1.294875\n",
      "perimeter_se               0.706600\n",
      "area_se                    0.638137\n",
      "smoothness_se              0.927156\n",
      "compactness_se             0.741090\n",
      "concavity_se               0.711042\n",
      "concave points_se          0.930291\n",
      "symmetry_se                0.708420\n",
      "fractal_dimension_se       0.699778\n",
      "radius_worst               1.029132\n",
      "texture_worst              0.943732\n",
      "perimeter_worst            1.018381\n",
      "area_worst                 0.966300\n",
      "smoothness_worst           0.936419\n",
      "compactness_worst          0.917876\n",
      "concavity_worst            0.941240\n",
      "concave points_worst       0.966577\n",
      "symmetry_worst             0.747835\n",
      "fractal_dimension_worst    1.123718\n",
      "dtype: float64\n"
     ]
    }
   ],
   "source": [
    "# Standardization\n",
    "import numpy as np\n",
    "\n",
    "# calculate mu and sig using the training set\n",
    "d = x_train.shape[1]\n",
    "mu = np.mean(x_train, axis=0).values.reshape(1, d)\n",
    "sig = np.std(x_train, axis=0).values.reshape(1, d)\n",
    "\n",
    "# transform the training features\n",
    "x_train = (x_train - mu) / (sig + 1E-6)\n",
    "\n",
    "# transform the test features\n",
    "x_test = (x_test - mu) / (sig + 1E-6)\n",
    "\n",
    "print('test mean = ')\n",
    "print(np.mean(x_test, axis=0))\n",
    "\n",
    "print()\n",
    "\n",
    "print('test std = ')\n",
    "print(np.std(x_test, axis=0))"
   ]
  },
  {
   "cell_type": "markdown",
   "metadata": {},
   "source": [
    "# 2.  Logistic Regression Model\n",
    "\n",
    "The objective function is $Q (w; X, y) = \\frac{1}{n} \\sum_{i=1}^n \\log \\Big( 1 + \\exp \\big( - y_i x_i^T w \\big) \\Big) + \\frac{\\lambda}{2} \\| w \\|_2^2 $.\n",
    "\n",
    "When $\\lambda = 0$, the model is a regular logistric regression and when $\\lambda > 0$, it essentially becomes a regularized logistric regression."
   ]
  },
  {
   "cell_type": "code",
   "execution_count": 6,
   "metadata": {},
   "outputs": [],
   "source": [
    "# Calculate the objective function value, or loss\n",
    "# Inputs:\n",
    "#     w: weight: d-by-1 matrix\n",
    "#     x: data: n-by-d matrix\n",
    "#     y: label: n-by-1 matrix\n",
    "#     lam: regularization parameter: scalar\n",
    "# Return:\n",
    "#     objective function value, or loss (scalar)\n",
    "def objective(w, x, y, lam):\n",
    "    # Retrieve x value of data matrix\n",
    "    n = x.shape[0]\n",
    "    # Convert x and y into matrices then do a elementwise multiplication\n",
    "    yx = np.multiply(np.mat(y),np.mat(x))\n",
    "    # Dot multiplication on w and the result above\n",
    "    yxw = np.dot(yx, w)\n",
    "    # Convert to float\n",
    "    yxw = yxw.astype(float)\n",
    "    # Multiply e to all -yxw\n",
    "    eyxw = np.exp(-yxw)\n",
    "    # Perform log operation \n",
    "    log = np.log(1 + eyxw)\n",
    "    # Regularization formula\n",
    "    regularization = (lam/2) * np.sum(np.multiply(w,w))\n",
    "    # The mean of the log formula added by regularization term\n",
    "    objective_function = np.mean(log) + regularization\n",
    "    return objective_function"
   ]
  },
  {
   "cell_type": "markdown",
   "metadata": {},
   "source": [
    "# 3. Numerical optimization"
   ]
  },
  {
   "cell_type": "markdown",
   "metadata": {},
   "source": [
    "## 3.1. Gradient descent\n"
   ]
  },
  {
   "cell_type": "markdown",
   "metadata": {},
   "source": [
    "The gradient at $w$ for regularized logistic regression is  $g = - \\frac{1}{n} \\sum_{i=1}^n \\frac{y_i x_i }{1 + \\exp ( y_i x_i^T w)} + \\lambda w$"
   ]
  },
  {
   "cell_type": "code",
   "execution_count": 7,
   "metadata": {},
   "outputs": [],
   "source": [
    "# Calculate the gradient\n",
    "# Inputs:\n",
    "#     w: weight: d-by-1 matrix\n",
    "#     x: data: n-by-d matrix\n",
    "#     y: label: n-by-1 matrix\n",
    "#     lam: regularization parameter: scalar\n",
    "# Return:\n",
    "#     g: gradient: d-by-1 matrix\n",
    "def gradient(w, x, y, lam):\n",
    "    # Convert y and x to matrices and then do elementwise multiplication\n",
    "    numerator = np.multiply(np.mat(y),np.mat(x))\n",
    "    # Multiply result above with w vector\n",
    "    yxw = np.dot(numerator,w)\n",
    "    # Convert above result to a float\n",
    "    yxw = yxw.astype(float)\n",
    "    # Formula for denominator\n",
    "    denominator = 1 + np.exp(yxw)\n",
    "    # Divide the numerator and denominator then apply the negative mean \n",
    "    vec = -np.mean(np.divide(numerator,denominator), axis=0).reshape(d, 1)\n",
    "    # Add result above to regularization term\n",
    "    g = vec + lam * w\n",
    "    return g"
   ]
  },
  {
   "cell_type": "code",
   "execution_count": 8,
   "metadata": {},
   "outputs": [],
   "source": [
    "# Gradient descent for solving logistic regression\n",
    "# You will need to do iterative process (loops) to obtain optimal weights in this function\n",
    "\n",
    "# Inputs:\n",
    "#     x: data: n-by-d matrix\n",
    "#     y: label: n-by-1 matrix\n",
    "#     lam: scalar, the regularization parameter\n",
    "#     learning_rate: scalar\n",
    "#     w: weights: d-by-1 matrix, initialization of w\n",
    "#     max_epoch: integer, the maximal epochs\n",
    "# Return:\n",
    "#     w: weights: d-by-1 matrix, the solution\n",
    "#     objvals: a record of each epoch's objective value\n",
    "def gradient_descent(x, y, lam, learning_rate, w, max_epoch=100):\n",
    "    # Holds number of epochs\n",
    "    count = 0 \n",
    "    # Retrieve shape of x matrix\n",
    "    n = x.shape[0]\n",
    "    d = x.shape[1]\n",
    "    \n",
    "    # List to hold objvals\n",
    "    objvals = []\n",
    "    # Iteration continues when count is less than max epoch\n",
    "    while count < max_epoch:\n",
    "        # Variable to hold ouptut after calculating objective value\n",
    "        objval = objective(w,x,y,lam)\n",
    "        # Add the output to lise\n",
    "        objvals.append(objval)\n",
    "        # Variable to hold output of gradient function\n",
    "        grad = gradient(w, x, y, lam)\n",
    "        # Increment epoch\n",
    "        count = count + 1\n",
    "        # Temp variable to hold learning * gradient\n",
    "        temp = learning_rate * grad\n",
    "        # Update weights to be learning_rate * gradient minus current weight\n",
    "        w = np.subtract(w, temp)\n",
    "    objvals = np.array(objvals)\n",
    "    # Return the w matrix and objval as an array\n",
    "    return w, objvals"
   ]
  },
  {
   "cell_type": "markdown",
   "metadata": {},
   "source": [
    "Use gradient_descent function to obtain your optimal weights and a list of objective values over each epoch."
   ]
  },
  {
   "cell_type": "code",
   "execution_count": 9,
   "metadata": {},
   "outputs": [],
   "source": [
    "# Train logistic regression\n",
    "# You should get the optimal weights and a list of objective values by using gradient_descent function.\n",
    "lam = 0\n",
    "learning_rate = 0.1\n",
    "\n",
    "# Retrieve d of x_train \n",
    "d = x_train.shape[1]\n",
    "# Create a weight vector of 0s\n",
    "w = np.zeros((d, 1))\n",
    "\n",
    "w_gd, objvals_gd = gradient_descent(x_train, y_train, lam, learning_rate, w)"
   ]
  },
  {
   "cell_type": "code",
   "execution_count": 10,
   "metadata": {},
   "outputs": [],
   "source": [
    "# Train regularized logistic regression\n",
    "# You should get the optimal weights and a list of objective values by using gradient_descent function.\n",
    "lam = 0.5\n",
    "learning_rate = 0.1\n",
    "\n",
    "# Retrieve d of x_train\n",
    "d = x_train.shape[1]\n",
    "# Create a weight vector of 0s\n",
    "w = np.zeros((d, 1))\n",
    "\n",
    "w_rgd, objvals_rgd = gradient_descent(x_train, y_train, lam, learning_rate, w)"
   ]
  },
  {
   "cell_type": "markdown",
   "metadata": {},
   "source": [
    "## 3.2. Stochastic gradient descent (SGD)\n",
    "\n",
    "Define new objective function $Q_i (w) = \\log \\Big( 1 + \\exp \\big( - y_i x_i^T w \\big) \\Big) + \\frac{\\lambda}{2} \\| w \\|_2^2 $. \n",
    "\n",
    "The stochastic gradient at $w$ is $g_i = \\frac{\\partial Q_i }{ \\partial w} = -\\frac{y_i x_i }{1 + \\exp ( y_i x_i^T w)} + \\lambda w$.\n",
    "\n",
    "You may need to implement a new function to calculate the new objective function and gradients."
   ]
  },
  {
   "cell_type": "code",
   "execution_count": 11,
   "metadata": {},
   "outputs": [],
   "source": [
    "# Calculate the objective Q_i and the gradient of Q_i\n",
    "# Inputs:\n",
    "#     w: weights: d-by-1 matrix\n",
    "#     xi: data: 1-by-d matrix\n",
    "#     yi: label: scalar\n",
    "#     lam: scalar, the regularization parameter\n",
    "# Return:\n",
    "#     obj: scalar, the objective Q_i\n",
    "#     g: d-by-1 matrix, gradient of Q_i\n",
    "def stochastic_objective_gradient(w, xi, yi, lam):\n",
    "    # Element wise multiply the first index of Yi only with Xi\n",
    "    yx = np.multiply(yi[0],xi)\n",
    "    # Dot multiply yx output and weight matrix\n",
    "    yxw = np.dot(yx, w)\n",
    "    # Apply e to -yxw\n",
    "    eyxw = np.exp(-yxw)\n",
    "    # Apply log formula\n",
    "    log = np.log(1 + eyxw)\n",
    "    # Regularization function for objective function\n",
    "    regularization = (lam/2) * np.sum(np.multiply(w,w))\n",
    "    obj = log + regularization\n",
    "    \n",
    "    # Loss formula\n",
    "    loss = -yx / (1 + np.exp(yxw)) \n",
    "    # Apply gradient function\n",
    "    g = loss + (lam * w)\n",
    "    # Return obj and g \n",
    "    return obj, g"
   ]
  },
  {
   "cell_type": "markdown",
   "metadata": {},
   "source": [
    "Hints:\n",
    "1. In every epoch, randomly permute the $n$ samples.\n",
    "2. Each epoch has $n$ iterations. In every iteration, use 1 sample, and compute the gradient and objective using the ``stochastic_objective_gradient`` function. In the next iteration, use the next sample, and so on."
   ]
  },
  {
   "cell_type": "code",
   "execution_count": 12,
   "metadata": {},
   "outputs": [],
   "source": [
    "# SGD for solving logistic regression\n",
    "# You will need to do iterative process (loops) to obtain optimal weights in this function\n",
    "\n",
    "# Inputs:\n",
    "#     x: data: n-by-d matrix\n",
    "#     y: label: n-by-1 matrix\n",
    "#     lam: scalar, the regularization parameter\n",
    "#     learning_rate: scalar\n",
    "#     w: weights: d-by-1 matrix, initialization of w\n",
    "#     max_epoch: integer, the maximal epochs\n",
    "# Return:\n",
    "#     \n",
    "#     w: weights: d-by-1 matrix, the solution\n",
    "#     objvals: a record of each epoch's objective value\n",
    "#     Record one objective value per epoch (not per iteration)\n",
    "def sgd(x, y, lam, learning_rate, w, max_epoch=100):\n",
    "    # Hold number of epochs\n",
    "    count = 0 \n",
    "    \n",
    "    # Retrive dimensions of x matrix\n",
    "    n = x.shape[0]\n",
    "    d = x.shape[1]\n",
    "    \n",
    "    # List to hold objvals\n",
    "    objvals = []\n",
    "    \n",
    "    # Convert x and y dataframe to numpy array\n",
    "    x = x.to_numpy()\n",
    "    y = y.to_numpy()\n",
    "    \n",
    "    while count < max_epoch:\n",
    "        # Used to randomize each sample per epoch\n",
    "        np.random.shuffle(x)   \n",
    "        np.random.shuffle(y)\n",
    "        \n",
    "        # Initialization of objval value\n",
    "        objval = 0\n",
    "        \n",
    "        for i in range(n):\n",
    "            # Create new numpy array with subset of all values of i rows to end \n",
    "            xi = x[i, :]\n",
    "            yi = y[i, :]\n",
    "            \n",
    "            # Function call to stochastic_objective_gradient\n",
    "            objective_function, gradient = stochastic_objective_gradient(w, xi, yi, lam)\n",
    "            # Matrix addition of objval and objective function\n",
    "            objval = np.add(objval, objective_function)\n",
    "            # Temp variable to hold learning rate * gradient\n",
    "            temp = learning_rate * gradient\n",
    "            # W matrix subtracted by temp\n",
    "            w = np.subtract(w, temp)\n",
    "            \n",
    "        # Divide objval value by n since it is only 1 row\n",
    "        objval = objval / n\n",
    "        # Add objval to list\n",
    "        objvals.append(objval)\n",
    "        # Increment epoch\n",
    "        count = count + 1\n",
    "    # Reshape the w vector\n",
    "    w = w.reshape(d,1)\n",
    "    # Change objvals to np array\n",
    "    objvals = np.array(objvals)\n",
    "    return w, objvals"
   ]
  },
  {
   "cell_type": "markdown",
   "metadata": {},
   "source": [
    "Use sgd function to obtain your optimal weights and a list of objective values over each epoch."
   ]
  },
  {
   "cell_type": "code",
   "execution_count": 13,
   "metadata": {},
   "outputs": [],
   "source": [
    "# Train logistic regression\n",
    "# You should get the optimal weights and a list of objective values by using gradient_descent function.\n",
    "lam = 0\n",
    "learning_rate = 0.1\n",
    "\n",
    "# Retrieve d of x_train\n",
    "d = x_train.shape[1]\n",
    "# Create weight vector of d x 1\n",
    "w = np.zeros(d)\n",
    "w_sgd, objvals_sgd = sgd(x_train, y_train, lam, learning_rate, w)"
   ]
  },
  {
   "cell_type": "code",
   "execution_count": 14,
   "metadata": {},
   "outputs": [],
   "source": [
    "# Train regularized logistic regression\n",
    "# You should get the optimal weights and a list of objective values by using gradient_descent function.\n",
    "lam = 0.5\n",
    "learning_rate = 0.1\n",
    "\n",
    "# Retrieve d of x_train\n",
    "d = x_train.shape[1]\n",
    "# Create weight vector of d x 1\n",
    "w = np.zeros(d)\n",
    "w_rsgd, objvals_rsgd = sgd(x_train, y_train, lam, learning_rate, w)"
   ]
  },
  {
   "cell_type": "markdown",
   "metadata": {},
   "source": [
    "## 3.3 Mini-Batch Gradient Descent (MBGD)"
   ]
  },
  {
   "cell_type": "markdown",
   "metadata": {},
   "source": [
    "Define $Q_I (w) = \\frac{1}{b} \\sum_{i \\in I} \\log \\Big( 1 + \\exp \\big( - y_i x_i^T w \\big) \\Big) + \\frac{\\lambda}{2} \\| w \\|_2^2 $, where $I$ is a set containing $b$ indices randomly drawn from $\\{ 1, \\cdots , n \\}$ without replacement.\n",
    "\n",
    "The stochastic gradient at $w$ is $g_I = \\frac{\\partial Q_I }{ \\partial w} = \\frac{1}{b} \\sum_{i \\in I} \\frac{- y_i x_i }{1 + \\exp ( y_i x_i^T w)} + \\lambda w$.\n",
    "\n",
    "You may need to implement a new function to calculate the new objective function and gradients."
   ]
  },
  {
   "cell_type": "code",
   "execution_count": 15,
   "metadata": {},
   "outputs": [],
   "source": [
    "# Calculate the objective Q_I and the gradient of Q_I\n",
    "# Inputs:\n",
    "#     w: weights: d-by-1 matrix\n",
    "#     xi: data: b-by-d matrix\n",
    "#     yi: label: b-by-1 matrix\n",
    "#     lam: scalar, the regularization parameter\n",
    "# Return:\n",
    "#     obj: scalar, the objective Q_i\n",
    "#     g: d-by-1 matrix, gradient of Q_i\n",
    "def mb_objective_gradient(w, xi, yi, lam):\n",
    "    # Retrieve dimension of xi\n",
    "    b = xi.shape[0]\n",
    "    d = xi.shape[1]\n",
    "\n",
    "    # Element wise multiply of matrix yi and matrix xi \n",
    "    yx = np.multiply(np.mat(yi),np.mat(xi))\n",
    "    # Dot multiply result above and w\n",
    "    yxw = np.dot(yx, w)\n",
    "    # Convert to float\n",
    "    yxw = yxw.astype(float)\n",
    "    # e to all values of -yxw\n",
    "    eyxw = np.exp(-yxw)\n",
    "    \n",
    "    # Mean after log of 1  + exyw\n",
    "    log = np.mean(np.log(1 + eyxw))\n",
    "    # Regularization term \n",
    "    regularization = (lam/2) * np.sum(np.multiply(w,w))\n",
    "    # Objective function \n",
    "    obj = log + regularization\n",
    "    \n",
    "    loss = np.mean(np.divide(-yx,(1 + np.exp(yxw))), axis=0).reshape(d, 1)\n",
    "    g = loss + (lam * w)\n",
    "    \n",
    "    return obj, g"
   ]
  },
  {
   "cell_type": "markdown",
   "metadata": {},
   "source": [
    "Hints:\n",
    "1. In every epoch, randomly permute the $n$ samples (just like SGD).\n",
    "2. Each epoch has $\\frac{n}{b}$ iterations. In every iteration, use $b$ samples, and compute the gradient and objective using the ``mb_objective_gradient`` function. In the next iteration, use the next $b$ samples, and so on."
   ]
  },
  {
   "cell_type": "code",
   "execution_count": 16,
   "metadata": {},
   "outputs": [],
   "source": [
    "# MBGD for solving logistic regression\n",
    "# You will need to do iterative process (loops) to obtain optimal weights in this function\n",
    "\n",
    "# Inputs:\n",
    "#     x: data: n-by-d matrix\n",
    "#     y: label: n-by-1 matrix\n",
    "#     lam: scalar, the regularization parameter\n",
    "#     learning_rate: scalar\n",
    "#     w: weights: d-by-1 matrix, initialization of w\n",
    "#     max_epoch: integer, the maximal epochs\n",
    "# Return:\n",
    "#     w: weights: d-by-1 matrix, the solution\n",
    "#     objvals: a record of each epoch's objective value\n",
    "#     Record one objective value per epoch (not per iteration)\n",
    "import random\n",
    "def mbgd(x, y, lam, learning_rate, w, max_epoch=100):\n",
    "    # used to hold number of epochs\n",
    "    count = 0 \n",
    "    # Retrieve dimensions for x matrix\n",
    "    n = x.shape[0]\n",
    "    d = x.shape[1]\n",
    "    # list to hold objvals\n",
    "    objvals = []\n",
    "    # Convert x and y to numpy array\n",
    "    x = x.to_numpy()\n",
    "    y = y.to_numpy()\n",
    "\n",
    "    while count < max_epoch:\n",
    "        # Used to randomize each sample per epoch\n",
    "        np.random.shuffle(x)   \n",
    "        np.random.shuffle(y)\n",
    "        \n",
    "        # Intialize/rest objval value\n",
    "        objval = 0\n",
    "        \n",
    "        # Generate a random number between 1 and n\n",
    "        num = random.randint(1, n)\n",
    "        # If num is not divisible, generate a new number\n",
    "        if (n % num !=0):\n",
    "            num = generate_new_number(n, num)\n",
    "        # Number of batches\n",
    "        batches = int(n/num)\n",
    "        # Iterate through each batch\n",
    "        for i in range(batches):\n",
    "            # Start index\n",
    "            start = i * num\n",
    "            # If random num is not 1, end index is ((i+1) * num) -1\n",
    "            if num != 1:\n",
    "                end = (((i+1)*num)-1)\n",
    "            # if random num is 1, end is the next element\n",
    "            elif num == 1: \n",
    "                end = start + 1\n",
    "            # Create new np array based on start and end indexes\n",
    "            xi = x[start:end,]\n",
    "            yi = y[start:end,]\n",
    "            \n",
    "            # call mini batch objective gradient function \n",
    "            objective_function, gradient = mb_objective_gradient(w, xi, yi, lam)\n",
    "            # Matrix addition of objval and objective function\n",
    "            objval = np.add(objval, objective_function)\n",
    "            # Temp variable to hold learning rate * gradient\n",
    "            temp = learning_rate * gradient\n",
    "            # W matrix subtracted by temp\n",
    "            w = np.subtract(w, temp)\n",
    "        # Get objval value which is objval/number of batches\n",
    "        objval = objval / batches\n",
    "        # Add objval value to list\n",
    "        objvals.append(objval)\n",
    "        # Incriment epoch\n",
    "        count = count + 1\n",
    "    # Convert list to np array\n",
    "    objvals = np.array(objvals)\n",
    "    return w, objvals\n",
    "\n",
    "# Used to generate a new random number if it is not divisible\n",
    "def generate_new_number(n, num):\n",
    "    # Generate new number\n",
    "    num = random.randint(1, n)\n",
    "    # if number not divisible, call function again to generate\n",
    "    if (n % num !=0):\n",
    "        return generate_new_number(n, num)\n",
    "    # else return the num\n",
    "    else: \n",
    "        return num"
   ]
  },
  {
   "cell_type": "markdown",
   "metadata": {},
   "source": [
    "Use mbgd function to obtain your optimal weights and a list of objective values over each epoch."
   ]
  },
  {
   "cell_type": "code",
   "execution_count": 17,
   "metadata": {},
   "outputs": [],
   "source": [
    "# Train logistic regression\n",
    "# You should get the optimal weights and a list of objective values by using gradient_descent function.\n",
    "lam = 0\n",
    "learning_rate = 0.1\n",
    "\n",
    "# Retrieve d of x_train\n",
    "d = x_train.shape[1]\n",
    "# Generate weight vector of 0s\n",
    "w = np.zeros((d, 1))\n",
    "\n",
    "w_mbgd, objvals_mbgd = mbgd(x_train, y_train, lam, learning_rate, w)"
   ]
  },
  {
   "cell_type": "code",
   "execution_count": 18,
   "metadata": {},
   "outputs": [],
   "source": [
    "# Train regularized logistic regression\n",
    "# You should get the optimal weights and a list of objective values by using gradient_descent function.\n",
    "lam = 0.5\n",
    "learning_rate = 0.1\n",
    "\n",
    "# Retrieve d of x_train\n",
    "d = x_train.shape[1]\n",
    "# Generate weight vector of 0s\n",
    "w = np.zeros((d, 1))\n",
    "\n",
    "w_rmbgd, objvals_rmbgd = mbgd(x_train, y_train, lam, learning_rate, w)"
   ]
  },
  {
   "cell_type": "markdown",
   "metadata": {},
   "source": [
    "# 4. Compare GD, SGD, MBGD\n",
    "\n",
    "### Plot objective function values against epochs."
   ]
  },
  {
   "cell_type": "code",
   "execution_count": 19,
   "metadata": {},
   "outputs": [
    {
     "name": "stderr",
     "output_type": "stream",
     "text": [
      "C:\\Users\\Jian\\AppData\\Local\\Temp/ipykernel_21480/120115234.py:6: MatplotlibDeprecationWarning: Case-insensitive properties were deprecated in 3.3 and support will be removed two minor releases later\n",
      "  gd, = plt.plot(range(len(objvals_gd)), objvals_gd, '--b', LineWidth=4)\n",
      "C:\\Users\\Jian\\AppData\\Local\\Temp/ipykernel_21480/120115234.py:7: MatplotlibDeprecationWarning: Case-insensitive properties were deprecated in 3.3 and support will be removed two minor releases later\n",
      "  rgd, = plt.plot(range(len(objvals_rgd)), objvals_rgd, '--g', LineWidth=4)\n",
      "C:\\Users\\Jian\\AppData\\Local\\Temp/ipykernel_21480/120115234.py:8: MatplotlibDeprecationWarning: Case-insensitive properties were deprecated in 3.3 and support will be removed two minor releases later\n",
      "  sgd_graph, = plt.plot(range(len(objvals_sgd)), objvals_sgd, '-r', LineWidth=4)\n",
      "C:\\Users\\Jian\\AppData\\Local\\Temp/ipykernel_21480/120115234.py:9: MatplotlibDeprecationWarning: Case-insensitive properties were deprecated in 3.3 and support will be removed two minor releases later\n",
      "  rsgd, = plt.plot(range(len(objvals_rsgd)), objvals_rsgd, '-y', LineWidth=4)\n",
      "C:\\Users\\Jian\\AppData\\Local\\Temp/ipykernel_21480/120115234.py:10: MatplotlibDeprecationWarning: Case-insensitive properties were deprecated in 3.3 and support will be removed two minor releases later\n",
      "  mbgd_graph, = plt.plot(range(len(objvals_mbgd)), objvals_sgd, 'x', LineWidth=4)\n",
      "C:\\Users\\Jian\\AppData\\Local\\Temp/ipykernel_21480/120115234.py:11: MatplotlibDeprecationWarning: Case-insensitive properties were deprecated in 3.3 and support will be removed two minor releases later\n",
      "  rmbgd, = plt.plot(range(len(objvals_rmbgd)), objvals_rmbgd, '.', LineWidth=4)\n",
      "C:\\Users\\Jian\\AppData\\Local\\Temp/ipykernel_21480/120115234.py:12: MatplotlibDeprecationWarning: Case-insensitive properties were deprecated in 3.3 and support will be removed two minor releases later\n",
      "  plt.title('Comparison of GD, SGD, and MBGD', FontSize=20)\n",
      "C:\\Users\\Jian\\AppData\\Local\\Temp/ipykernel_21480/120115234.py:13: MatplotlibDeprecationWarning: Case-insensitive properties were deprecated in 3.3 and support will be removed two minor releases later\n",
      "  plt.xlabel('Epochs', FontSize=20)\n",
      "C:\\Users\\Jian\\AppData\\Local\\Temp/ipykernel_21480/120115234.py:14: MatplotlibDeprecationWarning: Case-insensitive properties were deprecated in 3.3 and support will be removed two minor releases later\n",
      "  plt.ylabel('Objective Value', FontSize=20)\n"
     ]
    },
    {
     "data": {
      "image/png": "[encoded data removed]",
      "text/plain": [
       "<Figure size 864x720 with 1 Axes>"
      ]
     },
     "metadata": {
      "needs_background": "light"
     },
     "output_type": "display_data"
    }
   ],
   "source": [
    "import matplotlib.pyplot as plt\n",
    "%matplotlib inline\n",
    "\n",
    "fig = plt.figure(figsize=(12, 10))\n",
    "\n",
    "gd, = plt.plot(range(len(objvals_gd)), objvals_gd, '--b', LineWidth=4)\n",
    "rgd, = plt.plot(range(len(objvals_rgd)), objvals_rgd, '--g', LineWidth=4)\n",
    "sgd_graph, = plt.plot(range(len(objvals_sgd)), objvals_sgd, '-r', LineWidth=4)\n",
    "rsgd, = plt.plot(range(len(objvals_rsgd)), objvals_rsgd, '-y', LineWidth=4)\n",
    "mbgd_graph, = plt.plot(range(len(objvals_mbgd)), objvals_sgd, 'x', LineWidth=4)\n",
    "rmbgd, = plt.plot(range(len(objvals_rmbgd)), objvals_rmbgd, '.', LineWidth=4)\n",
    "plt.title('Comparison of GD, SGD, and MBGD', FontSize=20)\n",
    "plt.xlabel('Epochs', FontSize=20)\n",
    "plt.ylabel('Objective Value', FontSize=20)\n",
    "plt.legend([gd, rgd, sgd_graph, rsgd, mbgd_graph, rmbgd], ['GD', 'RGD', 'SGD', 'RSGD', 'MBGD', 'RMBGD'], fontsize=20)\n",
    "plt.tight_layout()\n",
    "plt.show()"
   ]
  },
  {
   "cell_type": "markdown",
   "metadata": {},
   "source": [
    "#### It appears that GD has the lowest objective value while SGD and MBGD has the highest objective value after 100 epochs."
   ]
  },
  {
   "cell_type": "markdown",
   "metadata": {},
   "source": [
    "# 5. Prediction\n",
    "### Compare the training and testing accuracy for logistic regression and regularized logistic regression."
   ]
  },
  {
   "cell_type": "code",
   "execution_count": 20,
   "metadata": {},
   "outputs": [],
   "source": [
    "# Predict class label\n",
    "# Inputs:\n",
    "#     w: weights: d-by-1 matrix\n",
    "#     X: data: m-by-d matrix\n",
    "# Return:\n",
    "#     f: m-by-1 matrix, the predictions\n",
    "def predict(w, X):\n",
    "    # Retreive d of weight vector\n",
    "    d = w.shape[0]\n",
    "    # Elementwise multiply x and w (transposed)\n",
    "    mult = np.multiply(np.mat(X), np.mat(w.T))\n",
    "    # Add each row\n",
    "    sum_of_rows = np.sum(mult, axis = 1)\n",
    "    return sum_of_rows"
   ]
  },
  {
   "cell_type": "code",
   "execution_count": 21,
   "metadata": {},
   "outputs": [],
   "source": [
    "# Function to calculate MSE error\n",
    "def calculate_error(prediction, true_value):\n",
    "    # Find the difference between true value and prediction matrix\n",
    "    difference = np.subtract(true_value, prediction)\n",
    "    # Square differences\n",
    "    squared = np.square(difference)\n",
    "    # mean of the sum of differences\n",
    "    mean = np.mean(np.sum(squared))\n",
    "    return mean"
   ]
  },
  {
   "cell_type": "code",
   "execution_count": 22,
   "metadata": {},
   "outputs": [
    {
     "name": "stdout",
     "output_type": "stream",
     "text": [
      "Training Error\n",
      "MSE of Logistic GD: 12955.314300700278\n",
      "MSE of Regularized GD: 2508.4056229037606\n",
      "\n",
      "\n",
      "MSE of Logistic SGD: 793.0126557841837\n",
      "MSE of Regularized SGD: 617.085542678522\n",
      "\n",
      "\n",
      "MSE of Logistic MBGD: 478.37422587040646\n",
      "MSE of Regularized MBGD: 455.56174899582857\n"
     ]
    }
   ],
   "source": [
    "# evaluate training error of logistic regression and regularized version\n",
    "print(\"Training Error\")\n",
    "gdp = predict(w_gd, x_train)\n",
    "rgdp = predict(w_rgd, x_train)\n",
    "print(\"MSE of Logistic GD: \" + str(calculate_error(gdp, y_train)))\n",
    "print(\"MSE of Regularized GD: \" + str(calculate_error(rgdp, y_train)))\n",
    "\n",
    "print('\\n')\n",
    "\n",
    "sgdp = predict(w_sgd, x_train)\n",
    "rsgdp = predict(w_rsgd, x_train)\n",
    "print(\"MSE of Logistic SGD: \" + str(calculate_error(sgdp, y_train)))\n",
    "print(\"MSE of Regularized SGD: \" + str(calculate_error(rsgdp, y_train)))\n",
    "\n",
    "print('\\n')\n",
    "\n",
    "mbgdp = predict(w_mbgd, x_train)\n",
    "rmbgdp = predict(w_rmbgd, x_train)\n",
    "print(\"MSE of Logistic MBGD: \" + str(calculate_error(mbgdp, y_train)))\n",
    "print(\"MSE of Regularized MBGD: \" + str(calculate_error(rmbgdp, y_train)))"
   ]
  },
  {
   "cell_type": "code",
   "execution_count": 23,
   "metadata": {},
   "outputs": [
    {
     "name": "stdout",
     "output_type": "stream",
     "text": [
      "Testing Error\n",
      "MSE of Logistic GD: 1972.054361576398\n",
      "MSE of Regularized GD: 180.49737229800286\n",
      "\n",
      "\n",
      "MSE of Logistic SGD: 266.7558197860301\n",
      "MSE of Regularized SGD: 82.99787794696825\n",
      "\n",
      "\n",
      "MSE of Logistic MBGD: 117.8382294151166\n",
      "MSE of Regularized MBGD: 116.89983211589114\n"
     ]
    }
   ],
   "source": [
    "# evaluate testing error of logistic regression and regularized version\n",
    "print(\"Testing Error\")\n",
    "gdp = predict(w_gd, x_test)\n",
    "rgdp = predict(w_rgd, x_test)\n",
    "print(\"MSE of Logistic GD: \" + str(calculate_error(gdp, y_test)))\n",
    "print(\"MSE of Regularized GD: \" + str(calculate_error(rgdp, y_test)))\n",
    "\n",
    "print('\\n')\n",
    "\n",
    "sgdp = predict(w_sgd, x_test)\n",
    "rsgdp = predict(w_rsgd, x_test)\n",
    "print(\"MSE of Logistic SGD: \" + str(calculate_error(sgdp, y_test)))\n",
    "print(\"MSE of Regularized SGD: \" + str(calculate_error(rsgdp, y_test)))\n",
    "\n",
    "print('\\n')\n",
    "\n",
    "mbgdp = predict(w_mbgd, x_test)\n",
    "rmbgdp = predict(w_rmbgd, x_test)\n",
    "print(\"MSE of Logistic MBGD: \" + str(calculate_error(mbgdp, y_test)))\n",
    "print(\"MSE of Regularized MBGD: \" + str(calculate_error(rmbgdp, y_test)))"
   ]
  },
  {
   "cell_type": "markdown",
   "metadata": {},
   "source": [
    "#### It appears that Regularized MBGD has the lowest Training Error MSE while Regularized SGD has the lowest Testing Error MSE."
   ]
  },
  {
   "cell_type": "markdown",
   "metadata": {},
   "source": [
    "# 6. Parameters tuning"
   ]
  },
  {
   "cell_type": "markdown",
   "metadata": {},
   "source": [
    "### In this section, you may try different combinations of parameters (regularization value, learning rate, etc) to see their effects on the model. (Open ended question)"
   ]
  },
  {
   "cell_type": "code",
   "execution_count": 24,
   "metadata": {},
   "outputs": [
    {
     "name": "stdout",
     "output_type": "stream",
     "text": [
      "Testing Error\n",
      "MSE of Logistic GD: 110.95146584338498\n",
      "MSE of Regularized GD: 106.62100436601997\n",
      "\n",
      "\n",
      "MSE of Logistic SGD: 203.2644988551427\n",
      "MSE of Regularized SGD: 169.89107343079047\n",
      "\n",
      "\n",
      "MSE of Logistic MBGD: 149.24917699085313\n",
      "MSE of Regularized MBGD: 110.41778242183508\n"
     ]
    }
   ],
   "source": [
    "learning_rate = 0.01\n",
    "# Retrieve d of x_train \n",
    "d = x_train.shape[1]\n",
    "# Create a weight vector of 0s\n",
    "w = np.zeros((d, 1))\n",
    "w1 = np.zeros(d)\n",
    "\n",
    "# Train logistic regression\n",
    "lam = 0\n",
    "w1_gd, objvals1_gd = gradient_descent(x_train, y_train, lam, learning_rate, w)\n",
    "w1_sgd, objvals1_sgd = sgd(x_train, y_train, lam, learning_rate, w1)\n",
    "w1_mbgd, objvals1_mbgd = mbgd(x_train, y_train, lam, learning_rate, w)\n",
    "\n",
    "# Train regularized logistic regression\n",
    "lam = 0.5\n",
    "w1_rgd, objvals1_rgd = gradient_descent(x_train, y_train, lam, learning_rate, w)\n",
    "w1_rsgd, objvals1_rsgd = sgd(x_train, y_train, lam, learning_rate, w1)\n",
    "w1_rmbgd, objvals1_rmbgd = mbgd(x_train, y_train, lam, learning_rate, w)\n",
    "\n",
    "\n",
    "print(\"Testing Error\")\n",
    "gdp1 = predict(w1_gd, x_test)\n",
    "rgdp1 = predict(w1_rgd, x_test)\n",
    "print(\"MSE of Logistic GD: \" + str(calculate_error(gdp1, y_test)))\n",
    "print(\"MSE of Regularized GD: \" + str(calculate_error(rgdp1, y_test)))\n",
    "\n",
    "print('\\n')\n",
    "\n",
    "sgdp1 = predict(w1_sgd, x_test)\n",
    "rsgdp1 = predict(w1_rsgd, x_test)\n",
    "print(\"MSE of Logistic SGD: \" + str(calculate_error(sgdp1, y_test)))\n",
    "print(\"MSE of Regularized SGD: \" + str(calculate_error(rsgdp1, y_test)))\n",
    "\n",
    "print('\\n')\n",
    "\n",
    "mbgdp1 = predict(w1_mbgd, x_test)\n",
    "rmbgdp1 = predict(w1_rmbgd, x_test)\n",
    "print(\"MSE of Logistic MBGD: \" + str(calculate_error(mbgdp1, y_test)))\n",
    "print(\"MSE of Regularized MBGD: \" + str(calculate_error(rmbgdp1, y_test)))"
   ]
  },
  {
   "cell_type": "code",
   "execution_count": 25,
   "metadata": {},
   "outputs": [
    {
     "name": "stdout",
     "output_type": "stream",
     "text": [
      "Testing Error\n",
      "MSE of Logistic GD: 117.90688046697606\n",
      "MSE of Regularized GD: 113.67371972808596\n",
      "\n",
      "\n",
      "MSE of Logistic SGD: 713.85252042158\n",
      "MSE of Regularized SGD: 301.54966880630474\n",
      "\n",
      "\n",
      "MSE of Logistic MBGD: 337.24696204213603\n",
      "MSE of Regularized MBGD: 135.8060293846005\n"
     ]
    }
   ],
   "source": [
    "learning_rate = 0.1\n",
    "\n",
    "# Train logistic regression\n",
    "lam = 0\n",
    "w2_gd, objvals2_gd = gradient_descent(x_train, y_train, lam, learning_rate, w)\n",
    "w2_sgd, objvals2_sgd = sgd(x_train, y_train, lam, learning_rate, w1)\n",
    "w2_mbgd, objvals2_mbgd = mbgd(x_train, y_train, lam, learning_rate, w)\n",
    "\n",
    "# Train regularized logistic regression\n",
    "lam = 0.8\n",
    "w2_rgd, objvals2_rgd = gradient_descent(x_train, y_train, lam, learning_rate, w)\n",
    "w2_rsgd, objvals2_rsgd = sgd(x_train, y_train, lam, learning_rate, w1)\n",
    "w2_rmbgd, objvals2_rmbgd = mbgd(x_train, y_train, lam, learning_rate, w)\n",
    "\n",
    "\n",
    "print(\"Testing Error\")\n",
    "gdp2 = predict(w2_gd, x_test)\n",
    "rgdp2 = predict(w2_rgd, x_test)\n",
    "print(\"MSE of Logistic GD: \" + str(calculate_error(gdp2, y_test)))\n",
    "print(\"MSE of Regularized GD: \" + str(calculate_error(rgdp2, y_test)))\n",
    "\n",
    "print('\\n')\n",
    "\n",
    "sgdp2 = predict(w2_sgd, x_test)\n",
    "rsgdp2 = predict(w2_rsgd, x_test)\n",
    "print(\"MSE of Logistic SGD: \" + str(calculate_error(sgdp2, y_test)))\n",
    "print(\"MSE of Regularized SGD: \" + str(calculate_error(rsgdp2, y_test)))\n",
    "\n",
    "print('\\n')\n",
    "\n",
    "mbgdp2 = predict(w2_mbgd, x_test)\n",
    "rmbgdp2 = predict(w2_rmbgd, x_test)\n",
    "print(\"MSE of Logistic MBGD: \" + str(calculate_error(mbgdp2, y_test)))\n",
    "print(\"MSE of Regularized MBGD: \" + str(calculate_error(rmbgdp2, y_test)))"
   ]
  },
  {
   "cell_type": "markdown",
   "metadata": {},
   "source": [
    "##### Changing the learning rate has dramatically decreased the MSE testing error for both logistic and regularized GD. Additionally, there was a lower logistic SGD, and regularized logistic MBGD. \n",
    "\n",
    "##### Changing the lam has resulted only in a lower logistic and regularized GD."
   ]
  }
 ],
 "metadata": {
  "kernelspec": {
   "display_name": "Python 3 (ipykernel)",
   "language": "python",
   "name": "python3"
  },
  "language_info": {
   "codemirror_mode": {
    "name": "ipython",
    "version": 3
   },
   "file_extension": ".py",
   "mimetype": "text/x-python",
   "name": "python",
   "nbconvert_exporter": "python",
   "pygments_lexer": "ipython3",
   "version": "3.9.7"
  }
 },
 "nbformat": 4,
 "nbformat_minor": 2
}
